{
  "nbformat": 4,
  "nbformat_minor": 0,
  "metadata": {
    "colab": {
      "name": "Project - Data Extraction & Cleaning.ipynb",
      "provenance": [],
      "collapsed_sections": []
    },
    "kernelspec": {
      "name": "python3",
      "display_name": "Python 3.8.3 64-bit (conda)",
      "metadata": {
        "interpreter": {
          "hash": "976159802f39db625d1f2a98b322b726cfc97da7dfea90bf2aeac880abb0b7d1"
        }
      }
    }
  },
  "cells": [
    {
      "cell_type": "markdown",
      "metadata": {
        "id": "jJoPxT1LnR97"
      },
      "source": [
        "## **DATA EXTRACTION**\n",
        "### Source: [**UN COMTRADE DATABASE**](https://https://comtrade.un.org/)\n",
        "The purpose behind the following code is to be able to extract all data regarding Mexico's international operations (imports & exports).\n",
        "\n",
        "After exploring the data through different queries in Postman, the following insights were gathered:\n",
        "\n",
        "* Mexico started reporting its operations until 1990, so prior to this year, all data is unavailable. \n",
        "\n",
        "*   From 1990 to 2009, all data reported by Mexico was recorded by Year, so we are not going to be able to explore how trade perfomed month by month in this time period. \n",
        "\n",
        "Keep in mind the following ...\n",
        "\n",
        "*   Public Users have only access to 1000 queries per hour, 1 query per second.\n",
        "*Queries should be specific and simple. \n",
        "\n",
        "So, the challenge was to create a program that automatically extracts the data considering all the restrictions that we Public Users have."
      ]
    },
    {
      "cell_type": "code",
      "metadata": {
        "id": "4riGkfEIoFCq"
      },
      "source": [
        "import os\n",
        "import requests\n",
        "import json\n",
        "import pandas as pd\n",
        "import time \n",
        "import pymysql\n",
        "from sqlalchemy import create_engine\n",
        "import pyautogui # pip install pyautogui"
      ],
      "execution_count": 1,
      "outputs": []
    },
    {
      "cell_type": "code",
      "metadata": {
        "id": "ll5pOHohQqMX"
      },
      "source": [
        "def query(dicc):\n",
        "  \n",
        "  \"\"\"Returns a string formatted as the query that it is needed for the API-CALL\"\"\"\n",
        "\n",
        "  # Input: dictionary with the specifications to extract data\n",
        "  # --> Output: Query (string) to use.\n",
        "  \n",
        "  dicc = json.dumps(dicc)\n",
        "  remove = '{}\" '\n",
        "\n",
        "  for r in remove:\n",
        "    dicc = dicc.replace(r, '').replace(':', '=').replace(',','&')\n",
        "    query = dicc\n",
        "\n",
        "  return query"
      ],
      "execution_count": 2,
      "outputs": []
    },
    {
      "cell_type": "code",
      "metadata": {
        "id": "Wunl8CL3dY99"
      },
      "source": [
        "def months(year=int, period=None):\n",
        "\n",
        "  \"\"\"\n",
        "  Returns a list of strings that represent each month of a year.\n",
        "  Since we can't use complex queries, we have to be specific in the time\n",
        "  period from which we are attempting to get data. For this reason, \n",
        "  this function was created for the purpose of iterating it to create\n",
        "  a list of queries (each query having a different time period specified).\n",
        "  \"\"\"\n",
        "\n",
        "  # Input: Year = 1990\n",
        "  # --> Output: List of Time Periods = [199001, 199002, 199003, 199004 ... 199012]\n",
        "\n",
        "  keys = ['JANUARY', 'FEBRUARY', 'MARCH', 'APRIL', 'MAY', 'JUNE', 'JULY',\\\n",
        "          'AUGUST', 'SEPTEMBER', 'OCTOBER',  'NOVEMBER', 'DECEMBER']\n",
        "  values = ['01', '02', '03', '04', '05', '06', '07', '08', '09', '10', '11', '12']\n",
        "  months = {keys[i]:values[i] for i in range(len(keys))}\n",
        "\n",
        "  if period==None:\n",
        "    return [str(year)+month for month in months.values()]\n",
        "\n",
        "  if type(period) == str:\n",
        "    return str(year)+months[period]"
      ],
      "execution_count": 3,
      "outputs": []
    },
    {
      "cell_type": "code",
      "metadata": {
        "id": "5NW18WX_bIHo"
      },
      "source": [
        "def dicc_zones():\n",
        "    \n",
        "    \"\"\"\n",
        "    Returns a dictionary with all the ids and names for each of the zones/areas\n",
        "    that report data to the UN COMTRADE.\n",
        "    \"\"\"\n",
        "\n",
        "    # --> Output: Dictionary = {'id':'zone'} = {'484':'Mexico'}\n",
        "\n",
        "    zones = requests.get('https://comtrade.un.org/Data/cache/partnerAreas.json')\n",
        "    zones = zones.json()['results'] \n",
        "    \n",
        "    values = []\n",
        "    \n",
        "    for zone in zones:\n",
        "      for (k,v) in zone.items():\n",
        "        values.append(v)\n",
        "    \n",
        "    values = iter(values)\n",
        "    id_zone_dicc = dict(zip(values, values))\n",
        "\n",
        "    return id_zone_dicc"
      ],
      "execution_count": 3,
      "outputs": []
    },
    {
      "cell_type": "code",
      "metadata": {
        "id": "yOZUrT8FTYwB"
      },
      "source": [
        "def all_query(time=list, zone='484'):\n",
        "  \n",
        "  \"\"\"\n",
        "  Returns a list of generated queries.\n",
        "  Right now the function is formatted strictly to get all the totals of all \n",
        "  the commodities that were traded by Mexico since 1990, which is the year\n",
        "  that Mexico started reporting its data to the United Nations.\n",
        "  \"\"\"\n",
        "\n",
        "  # Input: years to be explored \n",
        "  # --> Output: List of Time Periods = [199001, 199002, 199003, 199004 ... 199012]\n",
        "\n",
        "  period_years = list(range(1990, 2010))\n",
        "  period_months = list(range(2010, 2021))\n",
        "\n",
        "  check_years = all(item in period_years for item in time)\n",
        "  check_months =  all(item in period_months for item in time)\n",
        "\n",
        "  if check_months == True:\n",
        "    freq = 'M'\n",
        "  if check_years == True:\n",
        "    freq = 'A'\n",
        "\n",
        "  list_of_queries = []\n",
        "\n",
        "  for year in time:\n",
        "    \n",
        "    keys = ['type', 'freq', 'px', 'ps', 'r', 'p', 'rg', 'cc']\n",
        "    values = ['C', freq, 'HS', str(year), zone, 'all', 'all', 'TOTAL']\n",
        "    \n",
        "    query_dict = {keys[i]:values[i] for i in range(len(keys))}\n",
        "    query_final = query(query_dict)\n",
        "    \n",
        "    list_of_queries.append(query_final)\n",
        "\n",
        "  return list_of_queries"
      ],
      "execution_count": 4,
      "outputs": []
    },
    {
      "cell_type": "code",
      "metadata": {
        "id": "XHEcc1z5PCZb"
      },
      "source": [
        "def api_getting(api=str, queries=list):\n",
        "  \n",
        "  \"\"\"\n",
        "  Returns a concatenated dataframe with all data collected\n",
        "  (from each query a dataframe is created)\n",
        "  \"\"\"\n",
        "\n",
        "  # Input: api, list of specific queries\n",
        "  # --> Output: Concatenated Pandas Dataframe with all the data collected.\n",
        "\n",
        "  dfs = []\n",
        "\n",
        "  for query in queries:\n",
        "\n",
        "    response = requests.get(f'{api}{query}')\n",
        "    time.sleep(1)\n",
        "    data = pd.DataFrame(response.json()['dataset'])\n",
        "    dfs.append(data)\n",
        "  \n",
        "  dataframe_api = pd.concat(dfs, axis=0, ignore_index=True)  \n",
        "\n",
        "  return dataframe_api"
      ],
      "execution_count": 5,
      "outputs": []
    },
    {
      "cell_type": "code",
      "metadata": {
        "id": "AC21OnALT5qf"
      },
      "source": [
        "def data_extraction():\n",
        "\n",
        "  \"\"\"\n",
        "  Returns the results in a concatenated dataframe.\n",
        "  Right now the function is formatted to gather all data reported by Mexico\n",
        "  from 1990 to 2020. Remember that the data from 1990 to 2009 was reported \n",
        "  annually, and from 2010 to 2020, we have access to the data of each month.\n",
        "  \"\"\"\n",
        "\n",
        "  \"\"\"\n",
        "  The difference between the past function and this one relies on the fact\n",
        "  that this one is arranged to extract all data reported by Mexico. \n",
        "  The past function is open to receive any type of queries regarding any other\n",
        "  country or a specific time period.\n",
        "  \"\"\"\n",
        "\n",
        "  time_months = list(range(2010, 2021))\n",
        "  time_years = list(range(1990, 2010))\n",
        "\n",
        "  final_queries_months = all_query(time_months)\n",
        "  final_queries_years = all_query(time_years)\n",
        "\n",
        "  api = 'http://comtrade.un.org/api/get?'\n",
        "  \n",
        "  results_months = api_getting(api, final_queries_months)\n",
        "  results_years = api_getting(api, final_queries_years)\n",
        "\n",
        "  results = pd.concat([results_months, results_years], axis=0, ignore_index=True)\n",
        "\n",
        "  return results"
      ],
      "execution_count": 6,
      "outputs": []
    },
    {
      "cell_type": "markdown",
      "metadata": {
        "id": "ers-vA-_wjko"
      },
      "source": [
        "## **DATA CLEANING** \n",
        "\n",
        "The following code is to clean and prepare the data for analysis. \n",
        "\n",
        "(Null & NaN values were deleted, and all data was restructured to be a more user-friendly dataframe)\n",
        "\n",
        "Every query that we used by running the past code, was converted into a Pandas Object."
      ]
    },
    {
      "cell_type": "code",
      "metadata": {
        "id": "2YLKBnLGRaTI"
      },
      "source": [
        "def data_prettifier(dataframe):\n",
        "\n",
        "  \"\"\"\n",
        "  Returns a dataframe cleaned, by eliminating unnecessary/repeated data, and \n",
        "  also by formatting data so that we can later perform various analyses through\n",
        "  pivot tables and graphs ...\n",
        "  \"\"\"\n",
        "\n",
        "  # Input: Dataframe with all the raw data extracted from the API.\n",
        "  # --> Output: Concatenated Pandas Dataframe with useful data, in a reliable format.\n",
        "\n",
        "  data_copy = dataframe.copy()\n",
        "\n",
        "  data_copy = data_copy[['period', 'rgDesc', 'rtTitle', 'ptTitle', 'cmdDescE', 'TradeValue']]\n",
        "    \n",
        "  data_copy.columns = ['Period', 'Regimen', 'Country', 'Partner','Commodity', 'Trade Value']\n",
        "    \n",
        "  data_copy['Period'] = data_copy['Period'].astype(str)\n",
        "  \n",
        "  months = data_copy[data_copy['Period'].apply(lambda x: len(x)==6)].index\n",
        "  years = data_copy[data_copy['Period'].apply(lambda x: len(x)==4)].index\n",
        "\n",
        "  data_copy.loc[months,'Period'] = pd.to_datetime(data_copy.loc[months,'Period'], format='%Y%m', errors='coerce').dt.to_period('m')\n",
        "  data_copy.loc[years,'Period'] = pd.to_datetime(data_copy.loc[years,'Period'], format='%Y', errors='coerce').dt.to_period('Y')\n",
        "\n",
        "  data_copy['Trade Value'] = data_copy['Trade Value'].astype(float)\n",
        "\n",
        "  return data_copy"
      ],
      "execution_count": 7,
      "outputs": []
    },
    {
      "cell_type": "code",
      "metadata": {
        "id": "67a2vWYo1FVU"
      },
      "source": [
        "def data_tosql(pretty_dataframe, engine=None, dbname=None):\n",
        "    \n",
        "    if engine == None and dbname == None:\n",
        "        \n",
        "        hostname = pyautogui.password(text='HOSTNAME', title='CREDENTIALS', mask='*')\n",
        "        user = pyautogui.prompt(text='SQL User:', title='USER' , default='Enter here your username ...')\n",
        "        password = pyautogui.password(text='SQL User Password', title='PASSWORD', mask='*')\n",
        "\n",
        "        conn = pymysql.connect(\n",
        "            host=hostname,\n",
        "            user=user,\n",
        "            password=password)\n",
        "\n",
        "        dbname = input('Name for New Database: ')\n",
        "\n",
        "        conn.cursor().execute(f'CREATE DATABASE {dbname}')\n",
        "\n",
        "        conn.close()\n",
        "        \n",
        "        credentials = f'@{hostname}/{dbname}'\n",
        "        \n",
        "        engine = create_engine(f'mysql+pymysql://{user}:{str(password)}{credentials}')\n",
        "        \n",
        "    return pretty_dataframe.to_sql(input('Name of Table: '), engine)"
      ],
      "execution_count": 8,
      "outputs": []
    },
    {
      "cell_type": "code",
      "metadata": {
        "id": "eFJ1_PJ4Ulw_"
      },
      "source": [
        "trade_data = data_extraction()\n",
        "trade_data"
      ],
      "execution_count": 10,
      "outputs": [
        {
          "output_type": "execute_result",
          "data": {
            "text/plain": [
              "      pfCode    yr  period   periodDesc  aggrLevel  IsLeaf  rgCode   rgDesc  \\\n",
              "0         HS  2010  201008  August 2010          0       0       1  Imports   \n",
              "1         HS  2010  201008  August 2010          0       0       2  Exports   \n",
              "2         HS  2010  201008  August 2010          0       0       1  Imports   \n",
              "3         HS  2010  201003   March 2010          0       0       1  Imports   \n",
              "4         HS  2010  201003   March 2010          0       0       2  Exports   \n",
              "...      ...   ...     ...          ...        ...     ...     ...      ...   \n",
              "43645     H3  2009    2009         2009          0       0       2   Export   \n",
              "43646     H3  2009    2009         2009          0       0       1   Import   \n",
              "43647     H3  2009    2009         2009          0       0       2   Export   \n",
              "43648     H3  2009    2009         2009          0       0       1   Import   \n",
              "43649     H3  2009    2009         2009          0       0       2   Export   \n",
              "\n",
              "       rtCode rtTitle  ... qtAltCode  qtAltDesc TradeQuantity AltQuantity  \\\n",
              "0         484  Mexico  ...      None                     None        None   \n",
              "1         484  Mexico  ...      None                     None        None   \n",
              "2         484  Mexico  ...      None                     None        None   \n",
              "3         484  Mexico  ...      None                     None        None   \n",
              "4         484  Mexico  ...      None                     None        None   \n",
              "...       ...     ...  ...       ...        ...           ...         ...   \n",
              "43645     484  Mexico  ...      None                     None        None   \n",
              "43646     484  Mexico  ...      None                     None        None   \n",
              "43647     484  Mexico  ...      None                     None        None   \n",
              "43648     484  Mexico  ...      None                     None        None   \n",
              "43649     484  Mexico  ...      None                     None        None   \n",
              "\n",
              "      NetWeight GrossWeight TradeValue CIFValue FOBValue estCode  \n",
              "0          None        None    5887887     None     None       0  \n",
              "1          None        None   33708650     None     None       0  \n",
              "2          None        None   82538966     None     None       0  \n",
              "3          None        None   31778856     None     None       0  \n",
              "4          None        None    2216020     None     None       0  \n",
              "...         ...         ...        ...      ...      ...     ...  \n",
              "43645      None        None     666470     None     None       0  \n",
              "43646      None        None      53846     None     None       0  \n",
              "43647      None        None    1032399     None     None       0  \n",
              "43648      None        None   50444097     None     None       0  \n",
              "43649      None        None  151852151     None     None       0  \n",
              "\n",
              "[43650 rows x 35 columns]"
            ],
            "text/html": "<div>\n<style scoped>\n    .dataframe tbody tr th:only-of-type {\n        vertical-align: middle;\n    }\n\n    .dataframe tbody tr th {\n        vertical-align: top;\n    }\n\n    .dataframe thead th {\n        text-align: right;\n    }\n</style>\n<table border=\"1\" class=\"dataframe\">\n  <thead>\n    <tr style=\"text-align: right;\">\n      <th></th>\n      <th>pfCode</th>\n      <th>yr</th>\n      <th>period</th>\n      <th>periodDesc</th>\n      <th>aggrLevel</th>\n      <th>IsLeaf</th>\n      <th>rgCode</th>\n      <th>rgDesc</th>\n      <th>rtCode</th>\n      <th>rtTitle</th>\n      <th>...</th>\n      <th>qtAltCode</th>\n      <th>qtAltDesc</th>\n      <th>TradeQuantity</th>\n      <th>AltQuantity</th>\n      <th>NetWeight</th>\n      <th>GrossWeight</th>\n      <th>TradeValue</th>\n      <th>CIFValue</th>\n      <th>FOBValue</th>\n      <th>estCode</th>\n    </tr>\n  </thead>\n  <tbody>\n    <tr>\n      <th>0</th>\n      <td>HS</td>\n      <td>2010</td>\n      <td>201008</td>\n      <td>August 2010</td>\n      <td>0</td>\n      <td>0</td>\n      <td>1</td>\n      <td>Imports</td>\n      <td>484</td>\n      <td>Mexico</td>\n      <td>...</td>\n      <td>None</td>\n      <td></td>\n      <td>None</td>\n      <td>None</td>\n      <td>None</td>\n      <td>None</td>\n      <td>5887887</td>\n      <td>None</td>\n      <td>None</td>\n      <td>0</td>\n    </tr>\n    <tr>\n      <th>1</th>\n      <td>HS</td>\n      <td>2010</td>\n      <td>201008</td>\n      <td>August 2010</td>\n      <td>0</td>\n      <td>0</td>\n      <td>2</td>\n      <td>Exports</td>\n      <td>484</td>\n      <td>Mexico</td>\n      <td>...</td>\n      <td>None</td>\n      <td></td>\n      <td>None</td>\n      <td>None</td>\n      <td>None</td>\n      <td>None</td>\n      <td>33708650</td>\n      <td>None</td>\n      <td>None</td>\n      <td>0</td>\n    </tr>\n    <tr>\n      <th>2</th>\n      <td>HS</td>\n      <td>2010</td>\n      <td>201008</td>\n      <td>August 2010</td>\n      <td>0</td>\n      <td>0</td>\n      <td>1</td>\n      <td>Imports</td>\n      <td>484</td>\n      <td>Mexico</td>\n      <td>...</td>\n      <td>None</td>\n      <td></td>\n      <td>None</td>\n      <td>None</td>\n      <td>None</td>\n      <td>None</td>\n      <td>82538966</td>\n      <td>None</td>\n      <td>None</td>\n      <td>0</td>\n    </tr>\n    <tr>\n      <th>3</th>\n      <td>HS</td>\n      <td>2010</td>\n      <td>201003</td>\n      <td>March 2010</td>\n      <td>0</td>\n      <td>0</td>\n      <td>1</td>\n      <td>Imports</td>\n      <td>484</td>\n      <td>Mexico</td>\n      <td>...</td>\n      <td>None</td>\n      <td></td>\n      <td>None</td>\n      <td>None</td>\n      <td>None</td>\n      <td>None</td>\n      <td>31778856</td>\n      <td>None</td>\n      <td>None</td>\n      <td>0</td>\n    </tr>\n    <tr>\n      <th>4</th>\n      <td>HS</td>\n      <td>2010</td>\n      <td>201003</td>\n      <td>March 2010</td>\n      <td>0</td>\n      <td>0</td>\n      <td>2</td>\n      <td>Exports</td>\n      <td>484</td>\n      <td>Mexico</td>\n      <td>...</td>\n      <td>None</td>\n      <td></td>\n      <td>None</td>\n      <td>None</td>\n      <td>None</td>\n      <td>None</td>\n      <td>2216020</td>\n      <td>None</td>\n      <td>None</td>\n      <td>0</td>\n    </tr>\n    <tr>\n      <th>...</th>\n      <td>...</td>\n      <td>...</td>\n      <td>...</td>\n      <td>...</td>\n      <td>...</td>\n      <td>...</td>\n      <td>...</td>\n      <td>...</td>\n      <td>...</td>\n      <td>...</td>\n      <td>...</td>\n      <td>...</td>\n      <td>...</td>\n      <td>...</td>\n      <td>...</td>\n      <td>...</td>\n      <td>...</td>\n      <td>...</td>\n      <td>...</td>\n      <td>...</td>\n      <td>...</td>\n    </tr>\n    <tr>\n      <th>43645</th>\n      <td>H3</td>\n      <td>2009</td>\n      <td>2009</td>\n      <td>2009</td>\n      <td>0</td>\n      <td>0</td>\n      <td>2</td>\n      <td>Export</td>\n      <td>484</td>\n      <td>Mexico</td>\n      <td>...</td>\n      <td>None</td>\n      <td></td>\n      <td>None</td>\n      <td>None</td>\n      <td>None</td>\n      <td>None</td>\n      <td>666470</td>\n      <td>None</td>\n      <td>None</td>\n      <td>0</td>\n    </tr>\n    <tr>\n      <th>43646</th>\n      <td>H3</td>\n      <td>2009</td>\n      <td>2009</td>\n      <td>2009</td>\n      <td>0</td>\n      <td>0</td>\n      <td>1</td>\n      <td>Import</td>\n      <td>484</td>\n      <td>Mexico</td>\n      <td>...</td>\n      <td>None</td>\n      <td></td>\n      <td>None</td>\n      <td>None</td>\n      <td>None</td>\n      <td>None</td>\n      <td>53846</td>\n      <td>None</td>\n      <td>None</td>\n      <td>0</td>\n    </tr>\n    <tr>\n      <th>43647</th>\n      <td>H3</td>\n      <td>2009</td>\n      <td>2009</td>\n      <td>2009</td>\n      <td>0</td>\n      <td>0</td>\n      <td>2</td>\n      <td>Export</td>\n      <td>484</td>\n      <td>Mexico</td>\n      <td>...</td>\n      <td>None</td>\n      <td></td>\n      <td>None</td>\n      <td>None</td>\n      <td>None</td>\n      <td>None</td>\n      <td>1032399</td>\n      <td>None</td>\n      <td>None</td>\n      <td>0</td>\n    </tr>\n    <tr>\n      <th>43648</th>\n      <td>H3</td>\n      <td>2009</td>\n      <td>2009</td>\n      <td>2009</td>\n      <td>0</td>\n      <td>0</td>\n      <td>1</td>\n      <td>Import</td>\n      <td>484</td>\n      <td>Mexico</td>\n      <td>...</td>\n      <td>None</td>\n      <td></td>\n      <td>None</td>\n      <td>None</td>\n      <td>None</td>\n      <td>None</td>\n      <td>50444097</td>\n      <td>None</td>\n      <td>None</td>\n      <td>0</td>\n    </tr>\n    <tr>\n      <th>43649</th>\n      <td>H3</td>\n      <td>2009</td>\n      <td>2009</td>\n      <td>2009</td>\n      <td>0</td>\n      <td>0</td>\n      <td>2</td>\n      <td>Export</td>\n      <td>484</td>\n      <td>Mexico</td>\n      <td>...</td>\n      <td>None</td>\n      <td></td>\n      <td>None</td>\n      <td>None</td>\n      <td>None</td>\n      <td>None</td>\n      <td>151852151</td>\n      <td>None</td>\n      <td>None</td>\n      <td>0</td>\n    </tr>\n  </tbody>\n</table>\n<p>43650 rows × 35 columns</p>\n</div>"
          },
          "metadata": {},
          "execution_count": 10
        }
      ]
    },
    {
      "cell_type": "code",
      "execution_count": 11,
      "metadata": {},
      "outputs": [
        {
          "output_type": "execute_result",
          "data": {
            "text/plain": [
              "        Period  Regimen Country               Partner        Commodity  \\\n",
              "0      2010-08  Imports  Mexico              Cambodia  All Commodities   \n",
              "1      2010-08  Exports  Mexico  China, Hong Kong SAR  All Commodities   \n",
              "2      2010-08  Imports  Mexico          South Africa  All Commodities   \n",
              "3      2010-03  Imports  Mexico               Hungary  All Commodities   \n",
              "4      2010-03  Exports  Mexico              Portugal  All Commodities   \n",
              "...        ...      ...     ...                   ...              ...   \n",
              "43645     2009   Export  Mexico                 Yemen  All Commodities   \n",
              "43646     2009   Import  Mexico                Zambia  All Commodities   \n",
              "43647     2009   Export  Mexico                Zambia  All Commodities   \n",
              "43648     2009   Import  Mexico            Areas, nes  All Commodities   \n",
              "43649     2009   Export  Mexico            Areas, nes  All Commodities   \n",
              "\n",
              "       Trade Value  \n",
              "0        5887887.0  \n",
              "1       33708650.0  \n",
              "2       82538966.0  \n",
              "3       31778856.0  \n",
              "4        2216020.0  \n",
              "...            ...  \n",
              "43645     666470.0  \n",
              "43646      53846.0  \n",
              "43647    1032399.0  \n",
              "43648   50444097.0  \n",
              "43649  151852151.0  \n",
              "\n",
              "[43650 rows x 6 columns]"
            ],
            "text/html": "<div>\n<style scoped>\n    .dataframe tbody tr th:only-of-type {\n        vertical-align: middle;\n    }\n\n    .dataframe tbody tr th {\n        vertical-align: top;\n    }\n\n    .dataframe thead th {\n        text-align: right;\n    }\n</style>\n<table border=\"1\" class=\"dataframe\">\n  <thead>\n    <tr style=\"text-align: right;\">\n      <th></th>\n      <th>Period</th>\n      <th>Regimen</th>\n      <th>Country</th>\n      <th>Partner</th>\n      <th>Commodity</th>\n      <th>Trade Value</th>\n    </tr>\n  </thead>\n  <tbody>\n    <tr>\n      <th>0</th>\n      <td>2010-08</td>\n      <td>Imports</td>\n      <td>Mexico</td>\n      <td>Cambodia</td>\n      <td>All Commodities</td>\n      <td>5887887.0</td>\n    </tr>\n    <tr>\n      <th>1</th>\n      <td>2010-08</td>\n      <td>Exports</td>\n      <td>Mexico</td>\n      <td>China, Hong Kong SAR</td>\n      <td>All Commodities</td>\n      <td>33708650.0</td>\n    </tr>\n    <tr>\n      <th>2</th>\n      <td>2010-08</td>\n      <td>Imports</td>\n      <td>Mexico</td>\n      <td>South Africa</td>\n      <td>All Commodities</td>\n      <td>82538966.0</td>\n    </tr>\n    <tr>\n      <th>3</th>\n      <td>2010-03</td>\n      <td>Imports</td>\n      <td>Mexico</td>\n      <td>Hungary</td>\n      <td>All Commodities</td>\n      <td>31778856.0</td>\n    </tr>\n    <tr>\n      <th>4</th>\n      <td>2010-03</td>\n      <td>Exports</td>\n      <td>Mexico</td>\n      <td>Portugal</td>\n      <td>All Commodities</td>\n      <td>2216020.0</td>\n    </tr>\n    <tr>\n      <th>...</th>\n      <td>...</td>\n      <td>...</td>\n      <td>...</td>\n      <td>...</td>\n      <td>...</td>\n      <td>...</td>\n    </tr>\n    <tr>\n      <th>43645</th>\n      <td>2009</td>\n      <td>Export</td>\n      <td>Mexico</td>\n      <td>Yemen</td>\n      <td>All Commodities</td>\n      <td>666470.0</td>\n    </tr>\n    <tr>\n      <th>43646</th>\n      <td>2009</td>\n      <td>Import</td>\n      <td>Mexico</td>\n      <td>Zambia</td>\n      <td>All Commodities</td>\n      <td>53846.0</td>\n    </tr>\n    <tr>\n      <th>43647</th>\n      <td>2009</td>\n      <td>Export</td>\n      <td>Mexico</td>\n      <td>Zambia</td>\n      <td>All Commodities</td>\n      <td>1032399.0</td>\n    </tr>\n    <tr>\n      <th>43648</th>\n      <td>2009</td>\n      <td>Import</td>\n      <td>Mexico</td>\n      <td>Areas, nes</td>\n      <td>All Commodities</td>\n      <td>50444097.0</td>\n    </tr>\n    <tr>\n      <th>43649</th>\n      <td>2009</td>\n      <td>Export</td>\n      <td>Mexico</td>\n      <td>Areas, nes</td>\n      <td>All Commodities</td>\n      <td>151852151.0</td>\n    </tr>\n  </tbody>\n</table>\n<p>43650 rows × 6 columns</p>\n</div>"
          },
          "metadata": {},
          "execution_count": 11
        }
      ],
      "source": [
        "pretty_trade_data = data_prettifier(trade_data)\n",
        "pretty_trade_data"
      ]
    },
    {
      "cell_type": "code",
      "execution_count": 18,
      "metadata": {},
      "outputs": [],
      "source": [
        "pretty_trade_data.to_json(f'{os.getcwd()}\\\\mexico-trade-data.json', orient='records')"
      ]
    }
  ]
}
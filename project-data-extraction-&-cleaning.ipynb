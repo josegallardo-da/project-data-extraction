{
  "nbformat": 4,
  "nbformat_minor": 0,
  "metadata": {
    "colab": {
      "name": "Project - Data Extraction & Cleaning.ipynb",
      "provenance": [],
      "collapsed_sections": []
    },
    "kernelspec": {
      "name": "python3",
      "display_name": "Python 3.8.3 64-bit (conda)",
      "metadata": {
        "interpreter": {
          "hash": "976159802f39db625d1f2a98b322b726cfc97da7dfea90bf2aeac880abb0b7d1"
        }
      }
    }
  },
  "cells": [
    {
      "cell_type": "markdown",
      "metadata": {
        "id": "jJoPxT1LnR97"
      },
      "source": [
        "## **DATA EXTRACTION**\n",
        "### Source: [**UN COMTRADE DATABASE**](https://https://comtrade.un.org/)\n",
        "The purpose behind the following code is to be able to extract all data regarding Mexico's international operations (imports & exports).\n",
        "\n",
        "After exploring the data through different queries in Postman, the following insights were gathered:\n",
        "\n",
        "* Mexico started reporting its operations until 1990, so prior to this year, all data is unavailable. \n",
        "\n",
        "*   From 1990 to 2009, all data reported by Mexico was recorded by Year, so we are not going to be able to explore how trade perfomed month by month in this time period. \n",
        "\n",
        "Keep in mind the following ...\n",
        "\n",
        "*   Public Users have only access to 1000 queries per hour, 1 query per second.\n",
        "*Queries should be specific and simple. \n",
        "\n",
        "So, the challenge was to create a program that automatically extracts the data considering all the restrictions that we Public Users have."
      ]
    },
    {
      "cell_type": "code",
      "metadata": {
        "id": "4riGkfEIoFCq"
      },
      "source": [
        "import os\n",
        "import requests\n",
        "import json\n",
        "import pandas as pd\n",
        "import time \n",
        "import pymysql\n",
        "from sqlalchemy import create_engine\n",
        "import pyautogui # pip install pyautogui"
      ],
      "execution_count": 27,
      "outputs": []
    },
    {
      "cell_type": "code",
      "metadata": {
        "id": "ll5pOHohQqMX"
      },
      "source": [
        "def query(dicc):\n",
        "  \n",
        "  \"\"\"Returns a string formatted as the query that it is needed for the API-CALL\"\"\"\n",
        "\n",
        "  # Input: dictionary with the specifications to extract data\n",
        "  # --> Output: Query (string) to use.\n",
        "  \n",
        "  dicc = json.dumps(dicc)\n",
        "  remove = '{}\" '\n",
        "\n",
        "  for r in remove:\n",
        "    dicc = dicc.replace(r, '').replace(':', '=').replace(',','&')\n",
        "    query = dicc\n",
        "\n",
        "  return query"
      ],
      "execution_count": 6,
      "outputs": []
    },
    {
      "cell_type": "code",
      "metadata": {
        "id": "Wunl8CL3dY99"
      },
      "source": [
        "def months(year=int, period=None):\n",
        "\n",
        "  \"\"\"\n",
        "  Returns a list of strings that represent each month of a year.\n",
        "  Since we can't use complex queries, we have to be specific in the time\n",
        "  period from which we are attempting to get data. For this reason, \n",
        "  this function was created for the purpose of iterating it to create\n",
        "  a list of queries (each query having a different time period specified).\n",
        "  \"\"\"\n",
        "\n",
        "  # Input: Year = 1990\n",
        "  # --> Output: List of Time Periods = [199001, 199002, 199003, 199004 ... 199012]\n",
        "\n",
        "  keys = ['JANUARY', 'FEBRUARY', 'MARCH', 'APRIL', 'MAY', 'JUNE', 'JULY',\\\n",
        "          'AUGUST', 'SEPTEMBER', 'OCTOBER',  'NOVEMBER', 'DECEMBER']\n",
        "  values = ['01', '02', '03', '04', '05', '06', '07', '08', '09', '10', '11', '12']\n",
        "  months = {keys[i]:values[i] for i in range(len(keys))}\n",
        "\n",
        "  if period==None:\n",
        "    return [str(year)+month for month in months.values()]\n",
        "\n",
        "  if type(period) == str:\n",
        "    return str(year)+months[period]"
      ],
      "execution_count": 7,
      "outputs": []
    },
    {
      "cell_type": "code",
      "metadata": {
        "id": "5NW18WX_bIHo"
      },
      "source": [
        "def dicc_zones():\n",
        "    \n",
        "    \"\"\"\n",
        "    Returns a dictionary with all the ids and names for each of the zones/areas\n",
        "    that report data to the UN COMTRADE.\n",
        "    \"\"\"\n",
        "\n",
        "    # --> Output: Dictionary = {'id':'zone'} = {'484':'Mexico'}\n",
        "\n",
        "    zones = requests.get('https://comtrade.un.org/Data/cache/partnerAreas.json')\n",
        "    zones = zones.json()['results'] \n",
        "    \n",
        "    values = []\n",
        "    \n",
        "    for zone in zones:\n",
        "      for (k,v) in zone.items():\n",
        "        values.append(v)\n",
        "    \n",
        "    values = iter(values)\n",
        "    id_zone_dicc = dict(zip(values, values))\n",
        "\n",
        "    return id_zone_dicc"
      ],
      "execution_count": 8,
      "outputs": []
    },
    {
      "cell_type": "code",
      "metadata": {
        "id": "yOZUrT8FTYwB"
      },
      "source": [
        "def all_query(time=list, zone='484'):\n",
        "  \n",
        "  \"\"\"\n",
        "  Returns a list of generated queries.\n",
        "  Right now the function is formatted strictly to get all the totals of all \n",
        "  the commodities that were traded by Mexico since 1990, which is the year\n",
        "  that Mexico started reporting its data to the United Nations.\n",
        "  \"\"\"\n",
        "\n",
        "  # Input: years to be explored \n",
        "  # --> Output: List of Time Periods = [199001, 199002, 199003, 199004 ... 199012]\n",
        "\n",
        "  period_years = list(range(1990, 2010))\n",
        "  period_months = list(range(2010, 2021))\n",
        "\n",
        "  check_years = all(item in period_years for item in time)\n",
        "  check_months =  all(item in period_months for item in time)\n",
        "\n",
        "  if check_months == True:\n",
        "    freq = 'M'\n",
        "  if check_years == True:\n",
        "    freq = 'A'\n",
        "\n",
        "  list_of_queries = []\n",
        "\n",
        "  for year in time:\n",
        "    \n",
        "    keys = ['type', 'freq', 'px', 'ps', 'r', 'p', 'rg', 'cc']\n",
        "    values = ['C', freq, 'HS', str(year), zone, 'all', 'all', 'TOTAL']\n",
        "    \n",
        "    query_dict = {keys[i]:values[i] for i in range(len(keys))}\n",
        "    query_final = query(query_dict)\n",
        "    \n",
        "    list_of_queries.append(query_final)\n",
        "\n",
        "  return list_of_queries"
      ],
      "execution_count": 9,
      "outputs": []
    },
    {
      "cell_type": "code",
      "metadata": {
        "id": "XHEcc1z5PCZb"
      },
      "source": [
        "def api_getting(api=str, queries=list):\n",
        "  \n",
        "  \"\"\"\n",
        "  Returns a concatenated dataframe with all data collected\n",
        "  (from each query a dataframe is created)\n",
        "  \"\"\"\n",
        "\n",
        "  # Input: api, list of specific queries\n",
        "  # --> Output: Concatenated Pandas Dataframe with all the data collected.\n",
        "\n",
        "  dfs = []\n",
        "\n",
        "  for query in queries:\n",
        "\n",
        "    response = requests.get(f'{api}{query}')\n",
        "    time.sleep(1)\n",
        "    data = pd.DataFrame(response.json()['dataset'])\n",
        "    dfs.append(data)\n",
        "  \n",
        "  dataframe_api = pd.concat(dfs, axis=0, ignore_index=True)  \n",
        "\n",
        "  return dataframe_api"
      ],
      "execution_count": 10,
      "outputs": []
    },
    {
      "cell_type": "code",
      "metadata": {
        "id": "AC21OnALT5qf"
      },
      "source": [
        "def data_extraction():\n",
        "\n",
        "  \"\"\"\n",
        "  Returns the results in a concatenated dataframe.\n",
        "  Right now the function is formatted to gather all data reported by Mexico\n",
        "  from 1990 to 2020. Remember that the data from 1990 to 2009 was reported \n",
        "  annually, and from 2010 to 2020, we have access to the data of each month.\n",
        "  \"\"\"\n",
        "\n",
        "  \"\"\"\n",
        "  The difference between the past function and this one relies on the fact\n",
        "  that this one is arranged to extract all data reported by Mexico. \n",
        "  The past function is open to receive any type of queries regarding any other\n",
        "  country or a specific time period.\n",
        "  \"\"\"\n",
        "\n",
        "  time_months = list(range(2010, 2021))\n",
        "  time_years = list(range(1990, 2010))\n",
        "\n",
        "  final_queries_months = all_query(time_months)\n",
        "  final_queries_years = all_query(time_years)\n",
        "\n",
        "  api = 'http://comtrade.un.org/api/get?'\n",
        "  \n",
        "  results_months = api_getting(api, final_queries_months)\n",
        "  results_years = api_getting(api, final_queries_years)\n",
        "\n",
        "  results = pd.concat([results_months, results_years], axis=0, ignore_index=True)\n",
        "\n",
        "  return results"
      ],
      "execution_count": 11,
      "outputs": []
    },
    {
      "cell_type": "markdown",
      "metadata": {
        "id": "ers-vA-_wjko"
      },
      "source": [
        "## **DATA CLEANING** \n",
        "\n",
        "The following code is to clean and prepare the data for analysis. \n",
        "\n",
        "(Null & NaN values were deleted, and all data was restructured to be a more user-friendly dataframe)\n",
        "\n",
        "Every query that we used by running the past code, was converted into a Pandas Object."
      ]
    },
    {
      "cell_type": "code",
      "metadata": {
        "id": "2YLKBnLGRaTI"
      },
      "source": [
        "def data_prettifier(dataframe):\n",
        "\n",
        "  \"\"\"\n",
        "  Returns a dataframe cleaned, by eliminating unnecessary/repeated data, and \n",
        "  also by formatting data so that we can later perform various analyses through\n",
        "  pivot tables and graphs ...\n",
        "  \"\"\"\n",
        "\n",
        "  # Input: Dataframe with all the raw data extracted from the API.\n",
        "  # --> Output: Concatenated Pandas Dataframe with useful data, in a reliable format.\n",
        "\n",
        "  data_copy = dataframe.copy()\n",
        "\n",
        "  data_copy = data_copy[['period', 'rgDesc', 'rtTitle', 'ptTitle', 'cmdDescE', 'TradeValue']]\n",
        "    \n",
        "  data_copy.columns = ['Period', 'Regimen', 'Country', 'Partner','Commodity', 'Trade Value']\n",
        "    \n",
        "  data_copy['Period'] = data_copy['Period'].astype(str)\n",
        "  \n",
        "  months = data_copy[data_copy['Period'].apply(lambda x: len(x)==6)].index\n",
        "  years = data_copy[data_copy['Period'].apply(lambda x: len(x)==4)].index\n",
        "\n",
        "  data_copy.loc[months,'Period'] = pd.to_datetime(data_copy.loc[months,'Period'], format='%Y%m', errors='coerce').dt.to_period('m')\n",
        "  data_copy.loc[years,'Period'] = pd.to_datetime(data_copy.loc[years,'Period'], format='%Y', errors='coerce').dt.to_period('Y')\n",
        "\n",
        "  data_copy['Trade Value'] = data_copy['Trade Value'].astype(float)\n",
        "\n",
        "  return data_copy"
      ],
      "execution_count": 12,
      "outputs": []
    },
    {
      "cell_type": "code",
      "metadata": {
        "id": "67a2vWYo1FVU"
      },
      "source": [
        "def data_tosql(pretty_dataframe, engine=None, dbname=None):\n",
        "    \n",
        "    if engine == None and dbname == None:\n",
        "        \n",
        "        hostname = pyautogui.password(text='HOSTNAME', title='CREDENTIALS', mask='*')\n",
        "        user = pyautogui.prompt(text='SQL User:', title='USER' , default='Enter here your username ...')\n",
        "        password = pyautogui.password(text='SQL User Password', title='PASSWORD', mask='*')\n",
        "\n",
        "        conn = pymysql.connect(\n",
        "            host=hostname,\n",
        "            user=user,\n",
        "            password=password)\n",
        "\n",
        "        dbname = input('Name for New Database: ')\n",
        "\n",
        "        conn.cursor().execute(f'CREATE DATABASE {dbname}')\n",
        "\n",
        "        conn.close()\n",
        "        \n",
        "        credentials = f'@{hostname}/{dbname}'\n",
        "        \n",
        "        engine = create_engine(f'mysql+pymysql://{user}:{str(password)}{credentials}')\n",
        "        \n",
        "    return pretty_dataframe.to_sql(input('Name of Table: '), engine)"
      ],
      "execution_count": 38,
      "outputs": []
    },
    {
      "cell_type": "code",
      "metadata": {
        "id": "eFJ1_PJ4Ulw_"
      },
      "source": [
        "trade_data = data_extraction()\n",
        "trade_data"
      ],
      "execution_count": 14,
      "outputs": [
        {
          "output_type": "execute_result",
          "data": {
            "text/plain": [
              "      pfCode    yr  period   periodDesc  aggrLevel  IsLeaf  rgCode   rgDesc  \\\n",
              "0         HS  2010  201008  August 2010          0       0       1  Imports   \n",
              "1         HS  2010  201008  August 2010          0       0       2  Exports   \n",
              "2         HS  2010  201008  August 2010          0       0       1  Imports   \n",
              "3         HS  2010  201003   March 2010          0       0       1  Imports   \n",
              "4         HS  2010  201003   March 2010          0       0       2  Exports   \n",
              "...      ...   ...     ...          ...        ...     ...     ...      ...   \n",
              "43405     H3  2009    2009         2009          0       0       2   Export   \n",
              "43406     H3  2009    2009         2009          0       0       1   Import   \n",
              "43407     H3  2009    2009         2009          0       0       2   Export   \n",
              "43408     H3  2009    2009         2009          0       0       1   Import   \n",
              "43409     H3  2009    2009         2009          0       0       2   Export   \n",
              "\n",
              "       rtCode rtTitle  ... qtAltCode  qtAltDesc TradeQuantity AltQuantity  \\\n",
              "0         484  Mexico  ...      None                     None        None   \n",
              "1         484  Mexico  ...      None                     None        None   \n",
              "2         484  Mexico  ...      None                     None        None   \n",
              "3         484  Mexico  ...      None                     None        None   \n",
              "4         484  Mexico  ...      None                     None        None   \n",
              "...       ...     ...  ...       ...        ...           ...         ...   \n",
              "43405     484  Mexico  ...      None                     None        None   \n",
              "43406     484  Mexico  ...      None                     None        None   \n",
              "43407     484  Mexico  ...      None                     None        None   \n",
              "43408     484  Mexico  ...      None                     None        None   \n",
              "43409     484  Mexico  ...      None                     None        None   \n",
              "\n",
              "      NetWeight GrossWeight TradeValue CIFValue FOBValue estCode  \n",
              "0          None        None    5887887     None     None       0  \n",
              "1          None        None   33708650     None     None       0  \n",
              "2          None        None   82538966     None     None       0  \n",
              "3          None        None   31778856     None     None       0  \n",
              "4          None        None    2216020     None     None       0  \n",
              "...         ...         ...        ...      ...      ...     ...  \n",
              "43405      None        None     666470     None     None       0  \n",
              "43406      None        None      53846     None     None       0  \n",
              "43407      None        None    1032399     None     None       0  \n",
              "43408      None        None   50444097     None     None       0  \n",
              "43409      None        None  151852151     None     None       0  \n",
              "\n",
              "[43410 rows x 35 columns]"
            ],
            "text/html": "<div>\n<style scoped>\n    .dataframe tbody tr th:only-of-type {\n        vertical-align: middle;\n    }\n\n    .dataframe tbody tr th {\n        vertical-align: top;\n    }\n\n    .dataframe thead th {\n        text-align: right;\n    }\n</style>\n<table border=\"1\" class=\"dataframe\">\n  <thead>\n    <tr style=\"text-align: right;\">\n      <th></th>\n      <th>pfCode</th>\n      <th>yr</th>\n      <th>period</th>\n      <th>periodDesc</th>\n      <th>aggrLevel</th>\n      <th>IsLeaf</th>\n      <th>rgCode</th>\n      <th>rgDesc</th>\n      <th>rtCode</th>\n      <th>rtTitle</th>\n      <th>...</th>\n      <th>qtAltCode</th>\n      <th>qtAltDesc</th>\n      <th>TradeQuantity</th>\n      <th>AltQuantity</th>\n      <th>NetWeight</th>\n      <th>GrossWeight</th>\n      <th>TradeValue</th>\n      <th>CIFValue</th>\n      <th>FOBValue</th>\n      <th>estCode</th>\n    </tr>\n  </thead>\n  <tbody>\n    <tr>\n      <th>0</th>\n      <td>HS</td>\n      <td>2010</td>\n      <td>201008</td>\n      <td>August 2010</td>\n      <td>0</td>\n      <td>0</td>\n      <td>1</td>\n      <td>Imports</td>\n      <td>484</td>\n      <td>Mexico</td>\n      <td>...</td>\n      <td>None</td>\n      <td></td>\n      <td>None</td>\n      <td>None</td>\n      <td>None</td>\n      <td>None</td>\n      <td>5887887</td>\n      <td>None</td>\n      <td>None</td>\n      <td>0</td>\n    </tr>\n    <tr>\n      <th>1</th>\n      <td>HS</td>\n      <td>2010</td>\n      <td>201008</td>\n      <td>August 2010</td>\n      <td>0</td>\n      <td>0</td>\n      <td>2</td>\n      <td>Exports</td>\n      <td>484</td>\n      <td>Mexico</td>\n      <td>...</td>\n      <td>None</td>\n      <td></td>\n      <td>None</td>\n      <td>None</td>\n      <td>None</td>\n      <td>None</td>\n      <td>33708650</td>\n      <td>None</td>\n      <td>None</td>\n      <td>0</td>\n    </tr>\n    <tr>\n      <th>2</th>\n      <td>HS</td>\n      <td>2010</td>\n      <td>201008</td>\n      <td>August 2010</td>\n      <td>0</td>\n      <td>0</td>\n      <td>1</td>\n      <td>Imports</td>\n      <td>484</td>\n      <td>Mexico</td>\n      <td>...</td>\n      <td>None</td>\n      <td></td>\n      <td>None</td>\n      <td>None</td>\n      <td>None</td>\n      <td>None</td>\n      <td>82538966</td>\n      <td>None</td>\n      <td>None</td>\n      <td>0</td>\n    </tr>\n    <tr>\n      <th>3</th>\n      <td>HS</td>\n      <td>2010</td>\n      <td>201003</td>\n      <td>March 2010</td>\n      <td>0</td>\n      <td>0</td>\n      <td>1</td>\n      <td>Imports</td>\n      <td>484</td>\n      <td>Mexico</td>\n      <td>...</td>\n      <td>None</td>\n      <td></td>\n      <td>None</td>\n      <td>None</td>\n      <td>None</td>\n      <td>None</td>\n      <td>31778856</td>\n      <td>None</td>\n      <td>None</td>\n      <td>0</td>\n    </tr>\n    <tr>\n      <th>4</th>\n      <td>HS</td>\n      <td>2010</td>\n      <td>201003</td>\n      <td>March 2010</td>\n      <td>0</td>\n      <td>0</td>\n      <td>2</td>\n      <td>Exports</td>\n      <td>484</td>\n      <td>Mexico</td>\n      <td>...</td>\n      <td>None</td>\n      <td></td>\n      <td>None</td>\n      <td>None</td>\n      <td>None</td>\n      <td>None</td>\n      <td>2216020</td>\n      <td>None</td>\n      <td>None</td>\n      <td>0</td>\n    </tr>\n    <tr>\n      <th>...</th>\n      <td>...</td>\n      <td>...</td>\n      <td>...</td>\n      <td>...</td>\n      <td>...</td>\n      <td>...</td>\n      <td>...</td>\n      <td>...</td>\n      <td>...</td>\n      <td>...</td>\n      <td>...</td>\n      <td>...</td>\n      <td>...</td>\n      <td>...</td>\n      <td>...</td>\n      <td>...</td>\n      <td>...</td>\n      <td>...</td>\n      <td>...</td>\n      <td>...</td>\n      <td>...</td>\n    </tr>\n    <tr>\n      <th>43405</th>\n      <td>H3</td>\n      <td>2009</td>\n      <td>2009</td>\n      <td>2009</td>\n      <td>0</td>\n      <td>0</td>\n      <td>2</td>\n      <td>Export</td>\n      <td>484</td>\n      <td>Mexico</td>\n      <td>...</td>\n      <td>None</td>\n      <td></td>\n      <td>None</td>\n      <td>None</td>\n      <td>None</td>\n      <td>None</td>\n      <td>666470</td>\n      <td>None</td>\n      <td>None</td>\n      <td>0</td>\n    </tr>\n    <tr>\n      <th>43406</th>\n      <td>H3</td>\n      <td>2009</td>\n      <td>2009</td>\n      <td>2009</td>\n      <td>0</td>\n      <td>0</td>\n      <td>1</td>\n      <td>Import</td>\n      <td>484</td>\n      <td>Mexico</td>\n      <td>...</td>\n      <td>None</td>\n      <td></td>\n      <td>None</td>\n      <td>None</td>\n      <td>None</td>\n      <td>None</td>\n      <td>53846</td>\n      <td>None</td>\n      <td>None</td>\n      <td>0</td>\n    </tr>\n    <tr>\n      <th>43407</th>\n      <td>H3</td>\n      <td>2009</td>\n      <td>2009</td>\n      <td>2009</td>\n      <td>0</td>\n      <td>0</td>\n      <td>2</td>\n      <td>Export</td>\n      <td>484</td>\n      <td>Mexico</td>\n      <td>...</td>\n      <td>None</td>\n      <td></td>\n      <td>None</td>\n      <td>None</td>\n      <td>None</td>\n      <td>None</td>\n      <td>1032399</td>\n      <td>None</td>\n      <td>None</td>\n      <td>0</td>\n    </tr>\n    <tr>\n      <th>43408</th>\n      <td>H3</td>\n      <td>2009</td>\n      <td>2009</td>\n      <td>2009</td>\n      <td>0</td>\n      <td>0</td>\n      <td>1</td>\n      <td>Import</td>\n      <td>484</td>\n      <td>Mexico</td>\n      <td>...</td>\n      <td>None</td>\n      <td></td>\n      <td>None</td>\n      <td>None</td>\n      <td>None</td>\n      <td>None</td>\n      <td>50444097</td>\n      <td>None</td>\n      <td>None</td>\n      <td>0</td>\n    </tr>\n    <tr>\n      <th>43409</th>\n      <td>H3</td>\n      <td>2009</td>\n      <td>2009</td>\n      <td>2009</td>\n      <td>0</td>\n      <td>0</td>\n      <td>2</td>\n      <td>Export</td>\n      <td>484</td>\n      <td>Mexico</td>\n      <td>...</td>\n      <td>None</td>\n      <td></td>\n      <td>None</td>\n      <td>None</td>\n      <td>None</td>\n      <td>None</td>\n      <td>151852151</td>\n      <td>None</td>\n      <td>None</td>\n      <td>0</td>\n    </tr>\n  </tbody>\n</table>\n<p>43410 rows × 35 columns</p>\n</div>"
          },
          "metadata": {},
          "execution_count": 14
        }
      ]
    },
    {
      "cell_type": "code",
      "execution_count": 15,
      "metadata": {},
      "outputs": [
        {
          "output_type": "execute_result",
          "data": {
            "text/plain": [
              "        Period  Regimen Country               Partner        Commodity  \\\n",
              "0      2010-08  Imports  Mexico              Cambodia  All Commodities   \n",
              "1      2010-08  Exports  Mexico  China, Hong Kong SAR  All Commodities   \n",
              "2      2010-08  Imports  Mexico          South Africa  All Commodities   \n",
              "3      2010-03  Imports  Mexico               Hungary  All Commodities   \n",
              "4      2010-03  Exports  Mexico              Portugal  All Commodities   \n",
              "...        ...      ...     ...                   ...              ...   \n",
              "43405     2009   Export  Mexico                 Yemen  All Commodities   \n",
              "43406     2009   Import  Mexico                Zambia  All Commodities   \n",
              "43407     2009   Export  Mexico                Zambia  All Commodities   \n",
              "43408     2009   Import  Mexico            Areas, nes  All Commodities   \n",
              "43409     2009   Export  Mexico            Areas, nes  All Commodities   \n",
              "\n",
              "       Trade Value  \n",
              "0        5887887.0  \n",
              "1       33708650.0  \n",
              "2       82538966.0  \n",
              "3       31778856.0  \n",
              "4        2216020.0  \n",
              "...            ...  \n",
              "43405     666470.0  \n",
              "43406      53846.0  \n",
              "43407    1032399.0  \n",
              "43408   50444097.0  \n",
              "43409  151852151.0  \n",
              "\n",
              "[43410 rows x 6 columns]"
            ],
            "text/html": "<div>\n<style scoped>\n    .dataframe tbody tr th:only-of-type {\n        vertical-align: middle;\n    }\n\n    .dataframe tbody tr th {\n        vertical-align: top;\n    }\n\n    .dataframe thead th {\n        text-align: right;\n    }\n</style>\n<table border=\"1\" class=\"dataframe\">\n  <thead>\n    <tr style=\"text-align: right;\">\n      <th></th>\n      <th>Period</th>\n      <th>Regimen</th>\n      <th>Country</th>\n      <th>Partner</th>\n      <th>Commodity</th>\n      <th>Trade Value</th>\n    </tr>\n  </thead>\n  <tbody>\n    <tr>\n      <th>0</th>\n      <td>2010-08</td>\n      <td>Imports</td>\n      <td>Mexico</td>\n      <td>Cambodia</td>\n      <td>All Commodities</td>\n      <td>5887887.0</td>\n    </tr>\n    <tr>\n      <th>1</th>\n      <td>2010-08</td>\n      <td>Exports</td>\n      <td>Mexico</td>\n      <td>China, Hong Kong SAR</td>\n      <td>All Commodities</td>\n      <td>33708650.0</td>\n    </tr>\n    <tr>\n      <th>2</th>\n      <td>2010-08</td>\n      <td>Imports</td>\n      <td>Mexico</td>\n      <td>South Africa</td>\n      <td>All Commodities</td>\n      <td>82538966.0</td>\n    </tr>\n    <tr>\n      <th>3</th>\n      <td>2010-03</td>\n      <td>Imports</td>\n      <td>Mexico</td>\n      <td>Hungary</td>\n      <td>All Commodities</td>\n      <td>31778856.0</td>\n    </tr>\n    <tr>\n      <th>4</th>\n      <td>2010-03</td>\n      <td>Exports</td>\n      <td>Mexico</td>\n      <td>Portugal</td>\n      <td>All Commodities</td>\n      <td>2216020.0</td>\n    </tr>\n    <tr>\n      <th>...</th>\n      <td>...</td>\n      <td>...</td>\n      <td>...</td>\n      <td>...</td>\n      <td>...</td>\n      <td>...</td>\n    </tr>\n    <tr>\n      <th>43405</th>\n      <td>2009</td>\n      <td>Export</td>\n      <td>Mexico</td>\n      <td>Yemen</td>\n      <td>All Commodities</td>\n      <td>666470.0</td>\n    </tr>\n    <tr>\n      <th>43406</th>\n      <td>2009</td>\n      <td>Import</td>\n      <td>Mexico</td>\n      <td>Zambia</td>\n      <td>All Commodities</td>\n      <td>53846.0</td>\n    </tr>\n    <tr>\n      <th>43407</th>\n      <td>2009</td>\n      <td>Export</td>\n      <td>Mexico</td>\n      <td>Zambia</td>\n      <td>All Commodities</td>\n      <td>1032399.0</td>\n    </tr>\n    <tr>\n      <th>43408</th>\n      <td>2009</td>\n      <td>Import</td>\n      <td>Mexico</td>\n      <td>Areas, nes</td>\n      <td>All Commodities</td>\n      <td>50444097.0</td>\n    </tr>\n    <tr>\n      <th>43409</th>\n      <td>2009</td>\n      <td>Export</td>\n      <td>Mexico</td>\n      <td>Areas, nes</td>\n      <td>All Commodities</td>\n      <td>151852151.0</td>\n    </tr>\n  </tbody>\n</table>\n<p>43410 rows × 6 columns</p>\n</div>"
          },
          "metadata": {},
          "execution_count": 15
        }
      ],
      "source": [
        "pretty_trade_data = data_prettifier(trade_data)\n",
        "pretty_trade_data"
      ]
    },
    {
      "cell_type": "code",
      "execution_count": 18,
      "metadata": {},
      "outputs": [],
      "source": [
        "pretty_trade_data.to_json(f'{os.getcwd()}\\\\mexico-trade-data.json', orient='records')"
      ]
    },
    {
      "cell_type": "code",
      "execution_count": 39,
      "metadata": {},
      "outputs": [
        {
          "output_type": "error",
          "ename": "AttributeError",
          "evalue": "'Period' object has no attribute 'translate'",
          "traceback": [
            "\u001b[1;31m---------------------------------------------------------------------------\u001b[0m",
            "\u001b[1;31mAttributeError\u001b[0m                            Traceback (most recent call last)",
            "\u001b[1;32m<ipython-input-39-6423f0ce2be0>\u001b[0m in \u001b[0;36m<module>\u001b[1;34m\u001b[0m\n\u001b[1;32m----> 1\u001b[1;33m \u001b[0msql_trade_data\u001b[0m \u001b[1;33m=\u001b[0m \u001b[0mdata_tosql\u001b[0m\u001b[1;33m(\u001b[0m\u001b[0mpretty_trade_data\u001b[0m\u001b[1;33m)\u001b[0m\u001b[1;33m\u001b[0m\u001b[1;33m\u001b[0m\u001b[0m\n\u001b[0m",
            "\u001b[1;32m<ipython-input-38-e77afe321e65>\u001b[0m in \u001b[0;36mdata_tosql\u001b[1;34m(pretty_dataframe, engine, dbname)\u001b[0m\n\u001b[0;32m     22\u001b[0m         \u001b[0mengine\u001b[0m \u001b[1;33m=\u001b[0m \u001b[0mcreate_engine\u001b[0m\u001b[1;33m(\u001b[0m\u001b[1;34mf'mysql+pymysql://{user}:{str(password)}{credentials}'\u001b[0m\u001b[1;33m)\u001b[0m\u001b[1;33m\u001b[0m\u001b[1;33m\u001b[0m\u001b[0m\n\u001b[0;32m     23\u001b[0m \u001b[1;33m\u001b[0m\u001b[0m\n\u001b[1;32m---> 24\u001b[1;33m     \u001b[1;32mreturn\u001b[0m \u001b[0mpretty_dataframe\u001b[0m\u001b[1;33m.\u001b[0m\u001b[0mto_sql\u001b[0m\u001b[1;33m(\u001b[0m\u001b[0minput\u001b[0m\u001b[1;33m(\u001b[0m\u001b[1;34m'Name of Table: '\u001b[0m\u001b[1;33m)\u001b[0m\u001b[1;33m,\u001b[0m \u001b[0mengine\u001b[0m\u001b[1;33m)\u001b[0m\u001b[1;33m\u001b[0m\u001b[1;33m\u001b[0m\u001b[0m\n\u001b[0m",
            "\u001b[1;32m~\\anaconda3\\lib\\site-packages\\pandas\\core\\generic.py\u001b[0m in \u001b[0;36mto_sql\u001b[1;34m(self, name, con, schema, if_exists, index, index_label, chunksize, dtype, method)\u001b[0m\n\u001b[0;32m   2651\u001b[0m         \u001b[1;32mfrom\u001b[0m \u001b[0mpandas\u001b[0m\u001b[1;33m.\u001b[0m\u001b[0mio\u001b[0m \u001b[1;32mimport\u001b[0m \u001b[0msql\u001b[0m\u001b[1;33m\u001b[0m\u001b[1;33m\u001b[0m\u001b[0m\n\u001b[0;32m   2652\u001b[0m \u001b[1;33m\u001b[0m\u001b[0m\n\u001b[1;32m-> 2653\u001b[1;33m         sql.to_sql(\n\u001b[0m\u001b[0;32m   2654\u001b[0m             \u001b[0mself\u001b[0m\u001b[1;33m,\u001b[0m\u001b[1;33m\u001b[0m\u001b[1;33m\u001b[0m\u001b[0m\n\u001b[0;32m   2655\u001b[0m             \u001b[0mname\u001b[0m\u001b[1;33m,\u001b[0m\u001b[1;33m\u001b[0m\u001b[1;33m\u001b[0m\u001b[0m\n",
            "\u001b[1;32m~\\anaconda3\\lib\\site-packages\\pandas\\io\\sql.py\u001b[0m in \u001b[0;36mto_sql\u001b[1;34m(frame, name, con, schema, if_exists, index, index_label, chunksize, dtype, method)\u001b[0m\n\u001b[0;32m    510\u001b[0m         )\n\u001b[0;32m    511\u001b[0m \u001b[1;33m\u001b[0m\u001b[0m\n\u001b[1;32m--> 512\u001b[1;33m     pandas_sql.to_sql(\n\u001b[0m\u001b[0;32m    513\u001b[0m         \u001b[0mframe\u001b[0m\u001b[1;33m,\u001b[0m\u001b[1;33m\u001b[0m\u001b[1;33m\u001b[0m\u001b[0m\n\u001b[0;32m    514\u001b[0m         \u001b[0mname\u001b[0m\u001b[1;33m,\u001b[0m\u001b[1;33m\u001b[0m\u001b[1;33m\u001b[0m\u001b[0m\n",
            "\u001b[1;32m~\\anaconda3\\lib\\site-packages\\pandas\\io\\sql.py\u001b[0m in \u001b[0;36mto_sql\u001b[1;34m(self, frame, name, if_exists, index, index_label, schema, chunksize, dtype, method)\u001b[0m\n\u001b[0;32m   1315\u001b[0m         )\n\u001b[0;32m   1316\u001b[0m         \u001b[0mtable\u001b[0m\u001b[1;33m.\u001b[0m\u001b[0mcreate\u001b[0m\u001b[1;33m(\u001b[0m\u001b[1;33m)\u001b[0m\u001b[1;33m\u001b[0m\u001b[1;33m\u001b[0m\u001b[0m\n\u001b[1;32m-> 1317\u001b[1;33m         \u001b[0mtable\u001b[0m\u001b[1;33m.\u001b[0m\u001b[0minsert\u001b[0m\u001b[1;33m(\u001b[0m\u001b[0mchunksize\u001b[0m\u001b[1;33m,\u001b[0m \u001b[0mmethod\u001b[0m\u001b[1;33m=\u001b[0m\u001b[0mmethod\u001b[0m\u001b[1;33m)\u001b[0m\u001b[1;33m\u001b[0m\u001b[1;33m\u001b[0m\u001b[0m\n\u001b[0m\u001b[0;32m   1318\u001b[0m         \u001b[1;32mif\u001b[0m \u001b[1;32mnot\u001b[0m \u001b[0mname\u001b[0m\u001b[1;33m.\u001b[0m\u001b[0misdigit\u001b[0m\u001b[1;33m(\u001b[0m\u001b[1;33m)\u001b[0m \u001b[1;32mand\u001b[0m \u001b[1;32mnot\u001b[0m \u001b[0mname\u001b[0m\u001b[1;33m.\u001b[0m\u001b[0mislower\u001b[0m\u001b[1;33m(\u001b[0m\u001b[1;33m)\u001b[0m\u001b[1;33m:\u001b[0m\u001b[1;33m\u001b[0m\u001b[1;33m\u001b[0m\u001b[0m\n\u001b[0;32m   1319\u001b[0m             \u001b[1;31m# check for potentially case sensitivity issues (GH7815)\u001b[0m\u001b[1;33m\u001b[0m\u001b[1;33m\u001b[0m\u001b[1;33m\u001b[0m\u001b[0m\n",
            "\u001b[1;32m~\\anaconda3\\lib\\site-packages\\pandas\\io\\sql.py\u001b[0m in \u001b[0;36minsert\u001b[1;34m(self, chunksize, method)\u001b[0m\n\u001b[0;32m    753\u001b[0m \u001b[1;33m\u001b[0m\u001b[0m\n\u001b[0;32m    754\u001b[0m                 \u001b[0mchunk_iter\u001b[0m \u001b[1;33m=\u001b[0m \u001b[0mzip\u001b[0m\u001b[1;33m(\u001b[0m\u001b[1;33m*\u001b[0m\u001b[1;33m[\u001b[0m\u001b[0marr\u001b[0m\u001b[1;33m[\u001b[0m\u001b[0mstart_i\u001b[0m\u001b[1;33m:\u001b[0m\u001b[0mend_i\u001b[0m\u001b[1;33m]\u001b[0m \u001b[1;32mfor\u001b[0m \u001b[0marr\u001b[0m \u001b[1;32min\u001b[0m \u001b[0mdata_list\u001b[0m\u001b[1;33m]\u001b[0m\u001b[1;33m)\u001b[0m\u001b[1;33m\u001b[0m\u001b[1;33m\u001b[0m\u001b[0m\n\u001b[1;32m--> 755\u001b[1;33m                 \u001b[0mexec_insert\u001b[0m\u001b[1;33m(\u001b[0m\u001b[0mconn\u001b[0m\u001b[1;33m,\u001b[0m \u001b[0mkeys\u001b[0m\u001b[1;33m,\u001b[0m \u001b[0mchunk_iter\u001b[0m\u001b[1;33m)\u001b[0m\u001b[1;33m\u001b[0m\u001b[1;33m\u001b[0m\u001b[0m\n\u001b[0m\u001b[0;32m    756\u001b[0m \u001b[1;33m\u001b[0m\u001b[0m\n\u001b[0;32m    757\u001b[0m     def _query_iterator(\n",
            "\u001b[1;32m~\\anaconda3\\lib\\site-packages\\pandas\\io\\sql.py\u001b[0m in \u001b[0;36m_execute_insert\u001b[1;34m(self, conn, keys, data_iter)\u001b[0m\n\u001b[0;32m    667\u001b[0m         \"\"\"\n\u001b[0;32m    668\u001b[0m         \u001b[0mdata\u001b[0m \u001b[1;33m=\u001b[0m \u001b[1;33m[\u001b[0m\u001b[0mdict\u001b[0m\u001b[1;33m(\u001b[0m\u001b[0mzip\u001b[0m\u001b[1;33m(\u001b[0m\u001b[0mkeys\u001b[0m\u001b[1;33m,\u001b[0m \u001b[0mrow\u001b[0m\u001b[1;33m)\u001b[0m\u001b[1;33m)\u001b[0m \u001b[1;32mfor\u001b[0m \u001b[0mrow\u001b[0m \u001b[1;32min\u001b[0m \u001b[0mdata_iter\u001b[0m\u001b[1;33m]\u001b[0m\u001b[1;33m\u001b[0m\u001b[1;33m\u001b[0m\u001b[0m\n\u001b[1;32m--> 669\u001b[1;33m         \u001b[0mconn\u001b[0m\u001b[1;33m.\u001b[0m\u001b[0mexecute\u001b[0m\u001b[1;33m(\u001b[0m\u001b[0mself\u001b[0m\u001b[1;33m.\u001b[0m\u001b[0mtable\u001b[0m\u001b[1;33m.\u001b[0m\u001b[0minsert\u001b[0m\u001b[1;33m(\u001b[0m\u001b[1;33m)\u001b[0m\u001b[1;33m,\u001b[0m \u001b[0mdata\u001b[0m\u001b[1;33m)\u001b[0m\u001b[1;33m\u001b[0m\u001b[1;33m\u001b[0m\u001b[0m\n\u001b[0m\u001b[0;32m    670\u001b[0m \u001b[1;33m\u001b[0m\u001b[0m\n\u001b[0;32m    671\u001b[0m     \u001b[1;32mdef\u001b[0m \u001b[0m_execute_insert_multi\u001b[0m\u001b[1;33m(\u001b[0m\u001b[0mself\u001b[0m\u001b[1;33m,\u001b[0m \u001b[0mconn\u001b[0m\u001b[1;33m,\u001b[0m \u001b[0mkeys\u001b[0m\u001b[1;33m,\u001b[0m \u001b[0mdata_iter\u001b[0m\u001b[1;33m)\u001b[0m\u001b[1;33m:\u001b[0m\u001b[1;33m\u001b[0m\u001b[1;33m\u001b[0m\u001b[0m\n",
            "\u001b[1;32m~\\anaconda3\\lib\\site-packages\\sqlalchemy\\engine\\base.py\u001b[0m in \u001b[0;36mexecute\u001b[1;34m(self, object_, *multiparams, **params)\u001b[0m\n\u001b[0;32m   1012\u001b[0m             )\n\u001b[0;32m   1013\u001b[0m         \u001b[1;32melse\u001b[0m\u001b[1;33m:\u001b[0m\u001b[1;33m\u001b[0m\u001b[1;33m\u001b[0m\u001b[0m\n\u001b[1;32m-> 1014\u001b[1;33m             \u001b[1;32mreturn\u001b[0m \u001b[0mmeth\u001b[0m\u001b[1;33m(\u001b[0m\u001b[0mself\u001b[0m\u001b[1;33m,\u001b[0m \u001b[0mmultiparams\u001b[0m\u001b[1;33m,\u001b[0m \u001b[0mparams\u001b[0m\u001b[1;33m)\u001b[0m\u001b[1;33m\u001b[0m\u001b[1;33m\u001b[0m\u001b[0m\n\u001b[0m\u001b[0;32m   1015\u001b[0m \u001b[1;33m\u001b[0m\u001b[0m\n\u001b[0;32m   1016\u001b[0m     \u001b[1;32mdef\u001b[0m \u001b[0m_execute_function\u001b[0m\u001b[1;33m(\u001b[0m\u001b[0mself\u001b[0m\u001b[1;33m,\u001b[0m \u001b[0mfunc\u001b[0m\u001b[1;33m,\u001b[0m \u001b[0mmultiparams\u001b[0m\u001b[1;33m,\u001b[0m \u001b[0mparams\u001b[0m\u001b[1;33m)\u001b[0m\u001b[1;33m:\u001b[0m\u001b[1;33m\u001b[0m\u001b[1;33m\u001b[0m\u001b[0m\n",
            "\u001b[1;32m~\\anaconda3\\lib\\site-packages\\sqlalchemy\\sql\\elements.py\u001b[0m in \u001b[0;36m_execute_on_connection\u001b[1;34m(self, connection, multiparams, params)\u001b[0m\n\u001b[0;32m    296\u001b[0m     \u001b[1;32mdef\u001b[0m \u001b[0m_execute_on_connection\u001b[0m\u001b[1;33m(\u001b[0m\u001b[0mself\u001b[0m\u001b[1;33m,\u001b[0m \u001b[0mconnection\u001b[0m\u001b[1;33m,\u001b[0m \u001b[0mmultiparams\u001b[0m\u001b[1;33m,\u001b[0m \u001b[0mparams\u001b[0m\u001b[1;33m)\u001b[0m\u001b[1;33m:\u001b[0m\u001b[1;33m\u001b[0m\u001b[1;33m\u001b[0m\u001b[0m\n\u001b[0;32m    297\u001b[0m         \u001b[1;32mif\u001b[0m \u001b[0mself\u001b[0m\u001b[1;33m.\u001b[0m\u001b[0msupports_execution\u001b[0m\u001b[1;33m:\u001b[0m\u001b[1;33m\u001b[0m\u001b[1;33m\u001b[0m\u001b[0m\n\u001b[1;32m--> 298\u001b[1;33m             \u001b[1;32mreturn\u001b[0m \u001b[0mconnection\u001b[0m\u001b[1;33m.\u001b[0m\u001b[0m_execute_clauseelement\u001b[0m\u001b[1;33m(\u001b[0m\u001b[0mself\u001b[0m\u001b[1;33m,\u001b[0m \u001b[0mmultiparams\u001b[0m\u001b[1;33m,\u001b[0m \u001b[0mparams\u001b[0m\u001b[1;33m)\u001b[0m\u001b[1;33m\u001b[0m\u001b[1;33m\u001b[0m\u001b[0m\n\u001b[0m\u001b[0;32m    299\u001b[0m         \u001b[1;32melse\u001b[0m\u001b[1;33m:\u001b[0m\u001b[1;33m\u001b[0m\u001b[1;33m\u001b[0m\u001b[0m\n\u001b[0;32m    300\u001b[0m             \u001b[1;32mraise\u001b[0m \u001b[0mexc\u001b[0m\u001b[1;33m.\u001b[0m\u001b[0mObjectNotExecutableError\u001b[0m\u001b[1;33m(\u001b[0m\u001b[0mself\u001b[0m\u001b[1;33m)\u001b[0m\u001b[1;33m\u001b[0m\u001b[1;33m\u001b[0m\u001b[0m\n",
            "\u001b[1;32m~\\anaconda3\\lib\\site-packages\\sqlalchemy\\engine\\base.py\u001b[0m in \u001b[0;36m_execute_clauseelement\u001b[1;34m(self, elem, multiparams, params)\u001b[0m\n\u001b[0;32m   1125\u001b[0m             )\n\u001b[0;32m   1126\u001b[0m \u001b[1;33m\u001b[0m\u001b[0m\n\u001b[1;32m-> 1127\u001b[1;33m         ret = self._execute_context(\n\u001b[0m\u001b[0;32m   1128\u001b[0m             \u001b[0mdialect\u001b[0m\u001b[1;33m,\u001b[0m\u001b[1;33m\u001b[0m\u001b[1;33m\u001b[0m\u001b[0m\n\u001b[0;32m   1129\u001b[0m             \u001b[0mdialect\u001b[0m\u001b[1;33m.\u001b[0m\u001b[0mexecution_ctx_cls\u001b[0m\u001b[1;33m.\u001b[0m\u001b[0m_init_compiled\u001b[0m\u001b[1;33m,\u001b[0m\u001b[1;33m\u001b[0m\u001b[1;33m\u001b[0m\u001b[0m\n",
            "\u001b[1;32m~\\anaconda3\\lib\\site-packages\\sqlalchemy\\engine\\base.py\u001b[0m in \u001b[0;36m_execute_context\u001b[1;34m(self, dialect, constructor, statement, parameters, *args)\u001b[0m\n\u001b[0;32m   1315\u001b[0m \u001b[1;33m\u001b[0m\u001b[0m\n\u001b[0;32m   1316\u001b[0m         \u001b[1;32mexcept\u001b[0m \u001b[0mBaseException\u001b[0m \u001b[1;32mas\u001b[0m \u001b[0me\u001b[0m\u001b[1;33m:\u001b[0m\u001b[1;33m\u001b[0m\u001b[1;33m\u001b[0m\u001b[0m\n\u001b[1;32m-> 1317\u001b[1;33m             self._handle_dbapi_exception(\n\u001b[0m\u001b[0;32m   1318\u001b[0m                 \u001b[0me\u001b[0m\u001b[1;33m,\u001b[0m \u001b[0mstatement\u001b[0m\u001b[1;33m,\u001b[0m \u001b[0mparameters\u001b[0m\u001b[1;33m,\u001b[0m \u001b[0mcursor\u001b[0m\u001b[1;33m,\u001b[0m \u001b[0mcontext\u001b[0m\u001b[1;33m\u001b[0m\u001b[1;33m\u001b[0m\u001b[0m\n\u001b[0;32m   1319\u001b[0m             )\n",
            "\u001b[1;32m~\\anaconda3\\lib\\site-packages\\sqlalchemy\\engine\\base.py\u001b[0m in \u001b[0;36m_handle_dbapi_exception\u001b[1;34m(self, e, statement, parameters, cursor, context)\u001b[0m\n\u001b[0;32m   1513\u001b[0m                 )\n\u001b[0;32m   1514\u001b[0m             \u001b[1;32melse\u001b[0m\u001b[1;33m:\u001b[0m\u001b[1;33m\u001b[0m\u001b[1;33m\u001b[0m\u001b[0m\n\u001b[1;32m-> 1515\u001b[1;33m                 \u001b[0mutil\u001b[0m\u001b[1;33m.\u001b[0m\u001b[0mraise_\u001b[0m\u001b[1;33m(\u001b[0m\u001b[0mexc_info\u001b[0m\u001b[1;33m[\u001b[0m\u001b[1;36m1\u001b[0m\u001b[1;33m]\u001b[0m\u001b[1;33m,\u001b[0m \u001b[0mwith_traceback\u001b[0m\u001b[1;33m=\u001b[0m\u001b[0mexc_info\u001b[0m\u001b[1;33m[\u001b[0m\u001b[1;36m2\u001b[0m\u001b[1;33m]\u001b[0m\u001b[1;33m)\u001b[0m\u001b[1;33m\u001b[0m\u001b[1;33m\u001b[0m\u001b[0m\n\u001b[0m\u001b[0;32m   1516\u001b[0m \u001b[1;33m\u001b[0m\u001b[0m\n\u001b[0;32m   1517\u001b[0m         \u001b[1;32mfinally\u001b[0m\u001b[1;33m:\u001b[0m\u001b[1;33m\u001b[0m\u001b[1;33m\u001b[0m\u001b[0m\n",
            "\u001b[1;32m~\\anaconda3\\lib\\site-packages\\sqlalchemy\\util\\compat.py\u001b[0m in \u001b[0;36mraise_\u001b[1;34m(***failed resolving arguments***)\u001b[0m\n\u001b[0;32m    176\u001b[0m \u001b[1;33m\u001b[0m\u001b[0m\n\u001b[0;32m    177\u001b[0m         \u001b[1;32mtry\u001b[0m\u001b[1;33m:\u001b[0m\u001b[1;33m\u001b[0m\u001b[1;33m\u001b[0m\u001b[0m\n\u001b[1;32m--> 178\u001b[1;33m             \u001b[1;32mraise\u001b[0m \u001b[0mexception\u001b[0m\u001b[1;33m\u001b[0m\u001b[1;33m\u001b[0m\u001b[0m\n\u001b[0m\u001b[0;32m    179\u001b[0m         \u001b[1;32mfinally\u001b[0m\u001b[1;33m:\u001b[0m\u001b[1;33m\u001b[0m\u001b[1;33m\u001b[0m\u001b[0m\n\u001b[0;32m    180\u001b[0m             \u001b[1;31m# credit to\u001b[0m\u001b[1;33m\u001b[0m\u001b[1;33m\u001b[0m\u001b[1;33m\u001b[0m\u001b[0m\n",
            "\u001b[1;32m~\\anaconda3\\lib\\site-packages\\sqlalchemy\\engine\\base.py\u001b[0m in \u001b[0;36m_execute_context\u001b[1;34m(self, dialect, constructor, statement, parameters, *args)\u001b[0m\n\u001b[0;32m   1255\u001b[0m                             \u001b[1;32mbreak\u001b[0m\u001b[1;33m\u001b[0m\u001b[1;33m\u001b[0m\u001b[0m\n\u001b[0;32m   1256\u001b[0m                 \u001b[1;32mif\u001b[0m \u001b[1;32mnot\u001b[0m \u001b[0mevt_handled\u001b[0m\u001b[1;33m:\u001b[0m\u001b[1;33m\u001b[0m\u001b[1;33m\u001b[0m\u001b[0m\n\u001b[1;32m-> 1257\u001b[1;33m                     self.dialect.do_executemany(\n\u001b[0m\u001b[0;32m   1258\u001b[0m                         \u001b[0mcursor\u001b[0m\u001b[1;33m,\u001b[0m \u001b[0mstatement\u001b[0m\u001b[1;33m,\u001b[0m \u001b[0mparameters\u001b[0m\u001b[1;33m,\u001b[0m \u001b[0mcontext\u001b[0m\u001b[1;33m\u001b[0m\u001b[1;33m\u001b[0m\u001b[0m\n\u001b[0;32m   1259\u001b[0m                     )\n",
            "\u001b[1;32m~\\anaconda3\\lib\\site-packages\\sqlalchemy\\dialects\\mysql\\mysqldb.py\u001b[0m in \u001b[0;36mdo_executemany\u001b[1;34m(self, cursor, statement, parameters, context)\u001b[0m\n\u001b[0;32m    146\u001b[0m \u001b[1;33m\u001b[0m\u001b[0m\n\u001b[0;32m    147\u001b[0m     \u001b[1;32mdef\u001b[0m \u001b[0mdo_executemany\u001b[0m\u001b[1;33m(\u001b[0m\u001b[0mself\u001b[0m\u001b[1;33m,\u001b[0m \u001b[0mcursor\u001b[0m\u001b[1;33m,\u001b[0m \u001b[0mstatement\u001b[0m\u001b[1;33m,\u001b[0m \u001b[0mparameters\u001b[0m\u001b[1;33m,\u001b[0m \u001b[0mcontext\u001b[0m\u001b[1;33m=\u001b[0m\u001b[1;32mNone\u001b[0m\u001b[1;33m)\u001b[0m\u001b[1;33m:\u001b[0m\u001b[1;33m\u001b[0m\u001b[1;33m\u001b[0m\u001b[0m\n\u001b[1;32m--> 148\u001b[1;33m         \u001b[0mrowcount\u001b[0m \u001b[1;33m=\u001b[0m \u001b[0mcursor\u001b[0m\u001b[1;33m.\u001b[0m\u001b[0mexecutemany\u001b[0m\u001b[1;33m(\u001b[0m\u001b[0mstatement\u001b[0m\u001b[1;33m,\u001b[0m \u001b[0mparameters\u001b[0m\u001b[1;33m)\u001b[0m\u001b[1;33m\u001b[0m\u001b[1;33m\u001b[0m\u001b[0m\n\u001b[0m\u001b[0;32m    149\u001b[0m         \u001b[1;32mif\u001b[0m \u001b[0mcontext\u001b[0m \u001b[1;32mis\u001b[0m \u001b[1;32mnot\u001b[0m \u001b[1;32mNone\u001b[0m\u001b[1;33m:\u001b[0m\u001b[1;33m\u001b[0m\u001b[1;33m\u001b[0m\u001b[0m\n\u001b[0;32m    150\u001b[0m             \u001b[0mcontext\u001b[0m\u001b[1;33m.\u001b[0m\u001b[0m_rowcount\u001b[0m \u001b[1;33m=\u001b[0m \u001b[0mrowcount\u001b[0m\u001b[1;33m\u001b[0m\u001b[1;33m\u001b[0m\u001b[0m\n",
            "\u001b[1;32m~\\anaconda3\\lib\\site-packages\\pymysql\\cursors.py\u001b[0m in \u001b[0;36mexecutemany\u001b[1;34m(self, query, args)\u001b[0m\n\u001b[0;32m    186\u001b[0m             \u001b[0mq_postfix\u001b[0m \u001b[1;33m=\u001b[0m \u001b[0mm\u001b[0m\u001b[1;33m.\u001b[0m\u001b[0mgroup\u001b[0m\u001b[1;33m(\u001b[0m\u001b[1;36m3\u001b[0m\u001b[1;33m)\u001b[0m \u001b[1;32mor\u001b[0m \u001b[1;34m''\u001b[0m\u001b[1;33m\u001b[0m\u001b[1;33m\u001b[0m\u001b[0m\n\u001b[0;32m    187\u001b[0m             \u001b[1;32massert\u001b[0m \u001b[0mq_values\u001b[0m\u001b[1;33m[\u001b[0m\u001b[1;36m0\u001b[0m\u001b[1;33m]\u001b[0m \u001b[1;33m==\u001b[0m \u001b[1;34m'('\u001b[0m \u001b[1;32mand\u001b[0m \u001b[0mq_values\u001b[0m\u001b[1;33m[\u001b[0m\u001b[1;33m-\u001b[0m\u001b[1;36m1\u001b[0m\u001b[1;33m]\u001b[0m \u001b[1;33m==\u001b[0m \u001b[1;34m')'\u001b[0m\u001b[1;33m\u001b[0m\u001b[1;33m\u001b[0m\u001b[0m\n\u001b[1;32m--> 188\u001b[1;33m             return self._do_execute_many(q_prefix, q_values, q_postfix, args,\n\u001b[0m\u001b[0;32m    189\u001b[0m                                          \u001b[0mself\u001b[0m\u001b[1;33m.\u001b[0m\u001b[0mmax_stmt_length\u001b[0m\u001b[1;33m,\u001b[0m\u001b[1;33m\u001b[0m\u001b[1;33m\u001b[0m\u001b[0m\n\u001b[0;32m    190\u001b[0m                                          self._get_db().encoding)\n",
            "\u001b[1;32m~\\anaconda3\\lib\\site-packages\\pymysql\\cursors.py\u001b[0m in \u001b[0;36m_do_execute_many\u001b[1;34m(self, prefix, values, postfix, args, max_stmt_length, encoding)\u001b[0m\n\u001b[0;32m    204\u001b[0m         \u001b[0msql\u001b[0m \u001b[1;33m=\u001b[0m \u001b[0mbytearray\u001b[0m\u001b[1;33m(\u001b[0m\u001b[0mprefix\u001b[0m\u001b[1;33m)\u001b[0m\u001b[1;33m\u001b[0m\u001b[1;33m\u001b[0m\u001b[0m\n\u001b[0;32m    205\u001b[0m         \u001b[0margs\u001b[0m \u001b[1;33m=\u001b[0m \u001b[0miter\u001b[0m\u001b[1;33m(\u001b[0m\u001b[0margs\u001b[0m\u001b[1;33m)\u001b[0m\u001b[1;33m\u001b[0m\u001b[1;33m\u001b[0m\u001b[0m\n\u001b[1;32m--> 206\u001b[1;33m         \u001b[0mv\u001b[0m \u001b[1;33m=\u001b[0m \u001b[0mvalues\u001b[0m \u001b[1;33m%\u001b[0m \u001b[0mescape\u001b[0m\u001b[1;33m(\u001b[0m\u001b[0mnext\u001b[0m\u001b[1;33m(\u001b[0m\u001b[0margs\u001b[0m\u001b[1;33m)\u001b[0m\u001b[1;33m,\u001b[0m \u001b[0mconn\u001b[0m\u001b[1;33m)\u001b[0m\u001b[1;33m\u001b[0m\u001b[1;33m\u001b[0m\u001b[0m\n\u001b[0m\u001b[0;32m    207\u001b[0m         \u001b[1;32mif\u001b[0m \u001b[0misinstance\u001b[0m\u001b[1;33m(\u001b[0m\u001b[0mv\u001b[0m\u001b[1;33m,\u001b[0m \u001b[0mtext_type\u001b[0m\u001b[1;33m)\u001b[0m\u001b[1;33m:\u001b[0m\u001b[1;33m\u001b[0m\u001b[1;33m\u001b[0m\u001b[0m\n\u001b[0;32m    208\u001b[0m             \u001b[1;32mif\u001b[0m \u001b[0mPY2\u001b[0m\u001b[1;33m:\u001b[0m\u001b[1;33m\u001b[0m\u001b[1;33m\u001b[0m\u001b[0m\n",
            "\u001b[1;32m~\\anaconda3\\lib\\site-packages\\pymysql\\cursors.py\u001b[0m in \u001b[0;36m_escape_args\u001b[1;34m(self, args, conn)\u001b[0m\n\u001b[0;32m    118\u001b[0m                 args = {ensure_bytes(key): ensure_bytes(val) for\n\u001b[0;32m    119\u001b[0m                         (key, val) in args.items()}\n\u001b[1;32m--> 120\u001b[1;33m             \u001b[1;32mreturn\u001b[0m \u001b[1;33m{\u001b[0m\u001b[0mkey\u001b[0m\u001b[1;33m:\u001b[0m \u001b[0mconn\u001b[0m\u001b[1;33m.\u001b[0m\u001b[0mliteral\u001b[0m\u001b[1;33m(\u001b[0m\u001b[0mval\u001b[0m\u001b[1;33m)\u001b[0m \u001b[1;32mfor\u001b[0m \u001b[1;33m(\u001b[0m\u001b[0mkey\u001b[0m\u001b[1;33m,\u001b[0m \u001b[0mval\u001b[0m\u001b[1;33m)\u001b[0m \u001b[1;32min\u001b[0m \u001b[0margs\u001b[0m\u001b[1;33m.\u001b[0m\u001b[0mitems\u001b[0m\u001b[1;33m(\u001b[0m\u001b[1;33m)\u001b[0m\u001b[1;33m}\u001b[0m\u001b[1;33m\u001b[0m\u001b[1;33m\u001b[0m\u001b[0m\n\u001b[0m\u001b[0;32m    121\u001b[0m         \u001b[1;32melse\u001b[0m\u001b[1;33m:\u001b[0m\u001b[1;33m\u001b[0m\u001b[1;33m\u001b[0m\u001b[0m\n\u001b[0;32m    122\u001b[0m             \u001b[1;31m# If it's not a dictionary let's try escaping it anyways.\u001b[0m\u001b[1;33m\u001b[0m\u001b[1;33m\u001b[0m\u001b[1;33m\u001b[0m\u001b[0m\n",
            "\u001b[1;32m~\\anaconda3\\lib\\site-packages\\pymysql\\cursors.py\u001b[0m in \u001b[0;36m<dictcomp>\u001b[1;34m(.0)\u001b[0m\n\u001b[0;32m    118\u001b[0m                 args = {ensure_bytes(key): ensure_bytes(val) for\n\u001b[0;32m    119\u001b[0m                         (key, val) in args.items()}\n\u001b[1;32m--> 120\u001b[1;33m             \u001b[1;32mreturn\u001b[0m \u001b[1;33m{\u001b[0m\u001b[0mkey\u001b[0m\u001b[1;33m:\u001b[0m \u001b[0mconn\u001b[0m\u001b[1;33m.\u001b[0m\u001b[0mliteral\u001b[0m\u001b[1;33m(\u001b[0m\u001b[0mval\u001b[0m\u001b[1;33m)\u001b[0m \u001b[1;32mfor\u001b[0m \u001b[1;33m(\u001b[0m\u001b[0mkey\u001b[0m\u001b[1;33m,\u001b[0m \u001b[0mval\u001b[0m\u001b[1;33m)\u001b[0m \u001b[1;32min\u001b[0m \u001b[0margs\u001b[0m\u001b[1;33m.\u001b[0m\u001b[0mitems\u001b[0m\u001b[1;33m(\u001b[0m\u001b[1;33m)\u001b[0m\u001b[1;33m}\u001b[0m\u001b[1;33m\u001b[0m\u001b[1;33m\u001b[0m\u001b[0m\n\u001b[0m\u001b[0;32m    121\u001b[0m         \u001b[1;32melse\u001b[0m\u001b[1;33m:\u001b[0m\u001b[1;33m\u001b[0m\u001b[1;33m\u001b[0m\u001b[0m\n\u001b[0;32m    122\u001b[0m             \u001b[1;31m# If it's not a dictionary let's try escaping it anyways.\u001b[0m\u001b[1;33m\u001b[0m\u001b[1;33m\u001b[0m\u001b[1;33m\u001b[0m\u001b[0m\n",
            "\u001b[1;32m~\\anaconda3\\lib\\site-packages\\pymysql\\connections.py\u001b[0m in \u001b[0;36mliteral\u001b[1;34m(self, obj)\u001b[0m\n\u001b[0;32m    467\u001b[0m         \u001b[0mNon\u001b[0m\u001b[1;33m-\u001b[0m\u001b[0mstandard\u001b[0m\u001b[1;33m,\u001b[0m \u001b[1;32mfor\u001b[0m \u001b[0minternal\u001b[0m \u001b[0muse\u001b[0m\u001b[1;33m;\u001b[0m \u001b[0mdo\u001b[0m \u001b[1;32mnot\u001b[0m \u001b[0muse\u001b[0m \u001b[0mthis\u001b[0m \u001b[1;32min\u001b[0m \u001b[0myour\u001b[0m \u001b[0mapplications\u001b[0m\u001b[1;33m.\u001b[0m\u001b[1;33m\u001b[0m\u001b[1;33m\u001b[0m\u001b[0m\n\u001b[0;32m    468\u001b[0m         \"\"\"\n\u001b[1;32m--> 469\u001b[1;33m         \u001b[1;32mreturn\u001b[0m \u001b[0mself\u001b[0m\u001b[1;33m.\u001b[0m\u001b[0mescape\u001b[0m\u001b[1;33m(\u001b[0m\u001b[0mobj\u001b[0m\u001b[1;33m,\u001b[0m \u001b[0mself\u001b[0m\u001b[1;33m.\u001b[0m\u001b[0mencoders\u001b[0m\u001b[1;33m)\u001b[0m\u001b[1;33m\u001b[0m\u001b[1;33m\u001b[0m\u001b[0m\n\u001b[0m\u001b[0;32m    470\u001b[0m \u001b[1;33m\u001b[0m\u001b[0m\n\u001b[0;32m    471\u001b[0m     \u001b[1;32mdef\u001b[0m \u001b[0mescape_string\u001b[0m\u001b[1;33m(\u001b[0m\u001b[0mself\u001b[0m\u001b[1;33m,\u001b[0m \u001b[0ms\u001b[0m\u001b[1;33m)\u001b[0m\u001b[1;33m:\u001b[0m\u001b[1;33m\u001b[0m\u001b[1;33m\u001b[0m\u001b[0m\n",
            "\u001b[1;32m~\\anaconda3\\lib\\site-packages\\pymysql\\connections.py\u001b[0m in \u001b[0;36mescape\u001b[1;34m(self, obj, mapping)\u001b[0m\n\u001b[0;32m    460\u001b[0m                 \u001b[0mret\u001b[0m \u001b[1;33m=\u001b[0m \u001b[1;34m\"_binary\"\u001b[0m \u001b[1;33m+\u001b[0m \u001b[0mret\u001b[0m\u001b[1;33m\u001b[0m\u001b[1;33m\u001b[0m\u001b[0m\n\u001b[0;32m    461\u001b[0m             \u001b[1;32mreturn\u001b[0m \u001b[0mret\u001b[0m\u001b[1;33m\u001b[0m\u001b[1;33m\u001b[0m\u001b[0m\n\u001b[1;32m--> 462\u001b[1;33m         \u001b[1;32mreturn\u001b[0m \u001b[0mconverters\u001b[0m\u001b[1;33m.\u001b[0m\u001b[0mescape_item\u001b[0m\u001b[1;33m(\u001b[0m\u001b[0mobj\u001b[0m\u001b[1;33m,\u001b[0m \u001b[0mself\u001b[0m\u001b[1;33m.\u001b[0m\u001b[0mcharset\u001b[0m\u001b[1;33m,\u001b[0m \u001b[0mmapping\u001b[0m\u001b[1;33m=\u001b[0m\u001b[0mmapping\u001b[0m\u001b[1;33m)\u001b[0m\u001b[1;33m\u001b[0m\u001b[1;33m\u001b[0m\u001b[0m\n\u001b[0m\u001b[0;32m    463\u001b[0m \u001b[1;33m\u001b[0m\u001b[0m\n\u001b[0;32m    464\u001b[0m     \u001b[1;32mdef\u001b[0m \u001b[0mliteral\u001b[0m\u001b[1;33m(\u001b[0m\u001b[0mself\u001b[0m\u001b[1;33m,\u001b[0m \u001b[0mobj\u001b[0m\u001b[1;33m)\u001b[0m\u001b[1;33m:\u001b[0m\u001b[1;33m\u001b[0m\u001b[1;33m\u001b[0m\u001b[0m\n",
            "\u001b[1;32m~\\anaconda3\\lib\\site-packages\\pymysql\\converters.py\u001b[0m in \u001b[0;36mescape_item\u001b[1;34m(val, charset, mapping)\u001b[0m\n\u001b[0;32m     25\u001b[0m         \u001b[0mval\u001b[0m \u001b[1;33m=\u001b[0m \u001b[0mencoder\u001b[0m\u001b[1;33m(\u001b[0m\u001b[0mval\u001b[0m\u001b[1;33m,\u001b[0m \u001b[0mcharset\u001b[0m\u001b[1;33m,\u001b[0m \u001b[0mmapping\u001b[0m\u001b[1;33m)\u001b[0m\u001b[1;33m\u001b[0m\u001b[1;33m\u001b[0m\u001b[0m\n\u001b[0;32m     26\u001b[0m     \u001b[1;32melse\u001b[0m\u001b[1;33m:\u001b[0m\u001b[1;33m\u001b[0m\u001b[1;33m\u001b[0m\u001b[0m\n\u001b[1;32m---> 27\u001b[1;33m         \u001b[0mval\u001b[0m \u001b[1;33m=\u001b[0m \u001b[0mencoder\u001b[0m\u001b[1;33m(\u001b[0m\u001b[0mval\u001b[0m\u001b[1;33m,\u001b[0m \u001b[0mmapping\u001b[0m\u001b[1;33m)\u001b[0m\u001b[1;33m\u001b[0m\u001b[1;33m\u001b[0m\u001b[0m\n\u001b[0m\u001b[0;32m     28\u001b[0m     \u001b[1;32mreturn\u001b[0m \u001b[0mval\u001b[0m\u001b[1;33m\u001b[0m\u001b[1;33m\u001b[0m\u001b[0m\n\u001b[0;32m     29\u001b[0m \u001b[1;33m\u001b[0m\u001b[0m\n",
            "\u001b[1;32m~\\anaconda3\\lib\\site-packages\\pymysql\\converters.py\u001b[0m in \u001b[0;36mescape_unicode\u001b[1;34m(value, mapping)\u001b[0m\n\u001b[0;32m    121\u001b[0m \u001b[1;33m\u001b[0m\u001b[0m\n\u001b[0;32m    122\u001b[0m \u001b[1;32mdef\u001b[0m \u001b[0mescape_unicode\u001b[0m\u001b[1;33m(\u001b[0m\u001b[0mvalue\u001b[0m\u001b[1;33m,\u001b[0m \u001b[0mmapping\u001b[0m\u001b[1;33m=\u001b[0m\u001b[1;32mNone\u001b[0m\u001b[1;33m)\u001b[0m\u001b[1;33m:\u001b[0m\u001b[1;33m\u001b[0m\u001b[1;33m\u001b[0m\u001b[0m\n\u001b[1;32m--> 123\u001b[1;33m     \u001b[1;32mreturn\u001b[0m \u001b[1;34mu\"'%s'\"\u001b[0m \u001b[1;33m%\u001b[0m \u001b[0m_escape_unicode\u001b[0m\u001b[1;33m(\u001b[0m\u001b[0mvalue\u001b[0m\u001b[1;33m)\u001b[0m\u001b[1;33m\u001b[0m\u001b[1;33m\u001b[0m\u001b[0m\n\u001b[0m\u001b[0;32m    124\u001b[0m \u001b[1;33m\u001b[0m\u001b[0m\n\u001b[0;32m    125\u001b[0m \u001b[1;32mdef\u001b[0m \u001b[0mescape_str\u001b[0m\u001b[1;33m(\u001b[0m\u001b[0mvalue\u001b[0m\u001b[1;33m,\u001b[0m \u001b[0mmapping\u001b[0m\u001b[1;33m=\u001b[0m\u001b[1;32mNone\u001b[0m\u001b[1;33m)\u001b[0m\u001b[1;33m:\u001b[0m\u001b[1;33m\u001b[0m\u001b[1;33m\u001b[0m\u001b[0m\n",
            "\u001b[1;32m~\\anaconda3\\lib\\site-packages\\pymysql\\converters.py\u001b[0m in \u001b[0;36m_escape_unicode\u001b[1;34m(value, mapping)\u001b[0m\n\u001b[0;32m     76\u001b[0m     \u001b[0mValue\u001b[0m \u001b[0mshould\u001b[0m \u001b[0mbe\u001b[0m \u001b[0municode\u001b[0m\u001b[1;33m\u001b[0m\u001b[1;33m\u001b[0m\u001b[0m\n\u001b[0;32m     77\u001b[0m     \"\"\"\n\u001b[1;32m---> 78\u001b[1;33m     \u001b[1;32mreturn\u001b[0m \u001b[0mvalue\u001b[0m\u001b[1;33m.\u001b[0m\u001b[0mtranslate\u001b[0m\u001b[1;33m(\u001b[0m\u001b[0m_escape_table\u001b[0m\u001b[1;33m)\u001b[0m\u001b[1;33m\u001b[0m\u001b[1;33m\u001b[0m\u001b[0m\n\u001b[0m\u001b[0;32m     79\u001b[0m \u001b[1;33m\u001b[0m\u001b[0m\n\u001b[0;32m     80\u001b[0m \u001b[1;32mif\u001b[0m \u001b[0mPY2\u001b[0m\u001b[1;33m:\u001b[0m\u001b[1;33m\u001b[0m\u001b[1;33m\u001b[0m\u001b[0m\n",
            "\u001b[1;31mAttributeError\u001b[0m: 'Period' object has no attribute 'translate'"
          ]
        }
      ],
      "source": [
        "sql_trade_data = data_tosql(pretty_trade_data)"
      ]
    },
    {
      "cell_type": "code",
      "execution_count": null,
      "metadata": {},
      "outputs": [],
      "source": []
    }
  ]
}